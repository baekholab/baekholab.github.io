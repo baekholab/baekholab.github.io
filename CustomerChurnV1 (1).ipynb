{
  "nbformat": 4,
  "nbformat_minor": 0,
  "metadata": {
    "colab": {
      "provenance": []
    },
    "kernelspec": {
      "name": "python3",
      "display_name": "Python 3"
    },
    "language_info": {
      "name": "python"
    }
  },
  "cells": [
    {
      "cell_type": "markdown",
      "source": [
        "# ***Predicting Customer Churn with CART (Decision Trees)***\n",
        "\n",
        "**By Sean Kim**\n",
        "\n",
        "*Welcome, marketers and aspiring data scientists! Now that you have an understanding of CART models, you'll be tackling a common business challenge: **customer churn**. We will predict which customers might leave (“churn”) a telecom service, using a Classification and Regression Tree (CART) model. We'll explain each step in detail, invite you to try things out for yourself, and relate the results to real-world marketing actions*\n",
        "\n",
        "---"
      ],
      "metadata": {
        "id": "1JFEvxIYeD0S"
      }
    },
    {
      "cell_type": "markdown",
      "source": [
        "## ***Introduction:***\n",
        "\n",
        "Let's role-play: You're a marketer at Telco, a popular telecom provider. Recently, you've noticed a worrying trend—customers leaving your service. In the telecom world, we call this customer churn—basically, when customers decide to pack up and move on. Losing customers isn't just frustrating; it's costly. In fact, studies show it's much cheaper to keep existing customers happy than to find new ones. Unfortunately, churn rates in the telecom industry are notoriously high—often around 20-30% per year([MDPI.COM](https://www.mdpi.com/1999-4893/17/6/231#:~:text=Prediction%20of%20Customer%20Churn%20Behavior,major%20industry%20at%20over%2030))​.\n",
        "\n",
        "**Your mission should you choose to accept:** *Find out why customers are leaving and create an action plan to keep them around*\n",
        "\n",
        "**Why CART (Decision trees)?**\n",
        "\n",
        "To solve the churn puzzle, we're using a tool called CART Decision Trees. Decision trees are popular because they're easy to understand—even if you're not a tech wizard—and they're great at handling messy, real-world data.\n",
        "\n",
        "Think of a decision tree like playing a game of “20 questions” about your customers. Each question splits customers into different groups based on their answers:\n",
        "\n",
        "- \"Is their contract month-to-month?\"\n",
        "- \"Do they use a lot of tech support?\"\n",
        "\"Are they high-billing customers?\"\n",
        "At the end, you'll have clear \"rules\" that predict who's likely to churn. For example:\n",
        "- “IF a customer has a month-to-month contract AND uses tech support heavily, THEN they're likely to churn.”\n",
        "\n",
        "Pretty simple, right? This makes it easy for you and your team to take action.\n",
        "\n",
        "**Learning Outcomes:**\n",
        "\n",
        "Expect to walk away with practical skills that you can use immediattely in marketing. You'll learn:\n",
        "\n",
        "1. Dataset Loading and Overview\n",
        "2. Data Cleaning and Preprocessing\n",
        "3. Building a CART (Decision Tree)\n",
        "4. Visualizing and Interpreting the CART (Decision Tree)\n",
        "5. Results and Marketing Insights\n",
        "\n",
        "\n",
        "\n",
        "---"
      ],
      "metadata": {
        "id": "WLfr75IaeIge"
      }
    },
    {
      "cell_type": "markdown",
      "source": [
        "## ***Step 1: Dataset Loading and Overview***\n",
        "\n",
        "- Dataset Loading\n",
        "- Exploratory Data Analysis (EDA)\n",
        "\n",
        "### *1.1 Dataset Loading*\n",
        "\n",
        "First let's load the dataset onto this Google Colab file. Download the [Telco dataset from Kaggle](https://www.kaggle.com/datasets/blastchar/telco-customer-churn) here.\n",
        "\n",
        "The dataset contains one row per customer, with various features (multiple columns) describing them. One of these features indicate whether a particular customer **Churned** (Yes/No)."
      ],
      "metadata": {
        "id": "rtsi1YfX4SQw"
      }
    },
    {
      "cell_type": "code",
      "source": [
        "# Run this cell and add the dataset to this directory\n",
        "from google.colab import files\n",
        "uploaded = files.upload()"
      ],
      "metadata": {
        "id": "-3pVYj-Dp3QW"
      },
      "execution_count": null,
      "outputs": []
    },
    {
      "cell_type": "markdown",
      "source": [
        "### *1.2 Exploratory Data Analysis (EDA)*\n",
        "Now that we have loaded our dataset, we will perform a brief, minimal exploratory data analysis (EDA). Our EDA will focus on understanding the characteristics of the dataset's features (e.g., types and number of variables, missing values, target variable). It will be minimal, so if you'd like an in depth guide on EDA's check out this guide by [Analytics Vidhya](https://www.analyticsvidhya.com/blog/2021/08/how-to-perform-exploratory-data-analysis-a-guide-for-beginners/).\n",
        "<details>\n",
        "<summary>Concise summary of EDA</summary>\n",
        "\n",
        "Exploratory data analysis (EDA) is the process of examining and summariznig a dataset to understand its main characteristics. By using statistical graphics and other visualization methods, EDA helps us:\n",
        "- **Understand data distribution:** Identify the shape (normal, skewed, etc.) of numeric variables.\n",
        "- **Detect outliers:** Find values that differ signicantly from the rest\n",
        "- **Identify missing data:** Check for null or missing values\n",
        "- **Uncover Relationships:** Visualize potential relationships between variables (using scatter plots, correlation matrices)\n",
        "\n",
        "**What are we looking for?**\n",
        "\n",
        "In our case of predicting churn rate we're looking for:\n",
        "- The overal structure and types of data available\n",
        "- The distribution of key numeric variables like **'MonthlyCharges'**, **'tenure'**, and **'TotalCharges'**\n",
        "- How features might relate to customer churn (**'Churn'** vs. **'tenure'**)\n",
        "- Whether there are outliers or anomalies\n",
        "</details>"
      ],
      "metadata": {
        "id": "m4DookCj-rTJ"
      }
    },
    {
      "cell_type": "code",
      "source": [
        "# Load the dataset\n",
        "import pandas as pd\n",
        "data = pd.read_csv(\"TelcoChurnPrediction.csv\")\n",
        "print(\"Dataset loaded successfully\")\n",
        "\n",
        "# Taking a look at the first few rows\n",
        "data.head(5)"
      ],
      "metadata": {
        "id": "cdQxDmjRp7Oq"
      },
      "execution_count": null,
      "outputs": []
    },
    {
      "cell_type": "markdown",
      "source": [
        "From this sneak peak, we can say:\n",
        "- **Features:** We have information like `gender`, whether the customer is a `SeniorCitizen`, whether they have a `Partner`, how long they've been with us (`tenure`, in months), what services they use (phone, internet, tech support), `Contract` type, billing information, etc.\n",
        "\n",
        "- **Target:** The `Churn` feature indicates whether a customer left (Yes) or stayed (No). This will be our target variable (i.e., what we want to predict).\n",
        "\n",
        "- **Types of variables:** There are both **categorical features** (e.g., `gender`, `InternetService`, `Contract`, etc.) and **numerical features** (e.g., `TotalCharges`, `tenure`, etc.). We will have to preprocess the data.\n",
        "\n",
        "Now, let's take some time to understand the data distribution. Let's see how many customers churned vs. stayed:\n"
      ],
      "metadata": {
        "id": "6aslmdkdu3zd"
      }
    },
    {
      "cell_type": "code",
      "source": [
        "# Calculate churn distribution\n",
        "churn_counts = data['Churn'].value_counts()\n",
        "print(churn_counts)\n",
        "print(f\"Churn Rate: {churn_counts['Yes'] / len(data):.2%}\")"
      ],
      "metadata": {
        "id": "IgVJZRsT8sWk"
      },
      "execution_count": null,
      "outputs": []
    },
    {
      "cell_type": "markdown",
      "source": [
        "This dataset contains information on 7043 customers, of which 1869 churned (5174 stayed), giving us a churn rate ~26.5%.\n",
        "\n",
        "Can you think of a reason what and why something might cause a problem here?\n",
        "<details>\n",
        "<summary> learn more </summary>\n",
        "We have an imbalance in the data. We have much more customers who stay with the company vs. churn (5174 vs. 1869).\n",
        "\n",
        "This means our model needs to be careful; if it naively predicted “No” for everyone, it would be right ~73.5% of the time, but that model would be useless in practice. We’ll keep this in mind when evaluating model performance. See if you can spot the techniques we use to handle this.\n",
        "</details>\n",
        "\n",
        "---"
      ],
      "metadata": {
        "id": "7HsUDIsT2UlV"
      }
    },
    {
      "cell_type": "markdown",
      "source": [
        "## ***Step 2: Data Cleaning and Preprocessing***\n",
        "\n",
        "- Data Cleaning\n",
        "- Data Preprocessing\n",
        "\n",
        "### *2.1 Data Cleaning*\n",
        "Now that we know what our data looks like, we need to ensure that it is ready for modeling.\n",
        "\n",
        "Real-world data often come with missing values and inconsistencies. The first thing we will do is to check for nulls and strange values"
      ],
      "metadata": {
        "id": "VedHVRRluCGB"
      }
    },
    {
      "cell_type": "code",
      "source": [
        "# Quick data sanity checks\n",
        "print(data.isnull().sum())        # check for missing values per column\n",
        "print(data.nunique())            # how many unique values in each column (to spot potential ID columns or constants)"
      ],
      "metadata": {
        "id": "66xP5od1T4eR"
      },
      "execution_count": null,
      "outputs": []
    },
    {
      "cell_type": "markdown",
      "source": [
        "If there are missing values or special cases, we would have to take care of them before preprocessing the data (e.g., fill with median, or drop if few).\n",
        "\n",
        "We will also drop the `customerID` column since it's just an identifier, and will not be useful for prediction."
      ],
      "metadata": {
        "id": "OmL99JHuXut8"
      }
    },
    {
      "cell_type": "markdown",
      "source": [
        "For the dataset we are using, we have 17 features that are categorical, meaning they aren't numbers that an algorithm can understand.\n",
        "\n",
        "We need to convert them into numerical values that our CART decision tree algorithm can understand. There are multiple ways we can do this."
      ],
      "metadata": {
        "id": "D1yUXu5qygg6"
      }
    },
    {
      "cell_type": "code",
      "source": [
        "# Drop unnecessary columns\n",
        "data = data.drop('customerID', axis=1)"
      ],
      "metadata": {
        "id": "BEBJKYJRIUCw"
      },
      "execution_count": null,
      "outputs": []
    },
    {
      "cell_type": "markdown",
      "source": [
        "Our data is now ready for preprocessing!\n",
        "\n",
        "### *2.2 Data Preprocessing*\n",
        "- Converting Categorical Variables\n",
        "- Separating Features and Target Variables\n",
        "- Splitting Training and Testing Sets\n",
        "\n",
        "\n",
        "### *2.2.1 Converting Categorical Variables*\n",
        "For a CART model:\n",
        "- We don't need to scale numeric features as trees are not distance-based (e.g., K-nearest-neighbor, support vector machines).\n",
        "\n",
        "- However, we do need to convert categorical features into numerical form (most implementations of CART can't directly handle strings). We can do this using **one-hot encoding** or **label encoding**.\n",
        "We will use **one-hot encoding** for variables that have nominal categories (`gender`, `InternetService`, `Contract`, etc.). For example, the feature `Contract` has values like \"Month-to-month\", \"One year\", and \"Two year\". These values will be replaced by three binary columns indicating each contract type.\n",
        "\n",
        "Let's do **one-code encoding** using pandas `get_dummies`. When using **one-code encoding**, we need to be careful of the [dummy variable trap](https://www.learndatasci.com/glossary/dummy-variable-trap/#:~:text=The%20Dummy%20Variable%20Trap%20occurs,is%20of%20the%20column's%20species.). We'll work around this by dropping one category per feature we apply **one-code encoding**.\n",
        "\n",
        "*Scikit-learn’s `DecisionTreeClassifier` can also accept label-encoded integers for categories, but **one-hot encoding** is safer to avoid any implied order.*\n",
        "\n"
      ],
      "metadata": {
        "id": "pEFbuXBqYRx1"
      }
    },
    {
      "cell_type": "code",
      "source": [
        "# One-hot encode categorical features\n",
        "\n",
        "categorical_columns = ['gender','Partner', 'Dependents', 'PhoneService',\n",
        "                       'MultipleLines', 'InternetService', 'OnlineSecurity',\n",
        "                       'OnlineBackup', 'DeviceProtection', 'TechSupport',\n",
        "                       'StreamingTV', 'StreamingMovies', 'Contract',\n",
        "                       'PaperlessBilling', 'PaymentMethod']\n",
        "\n",
        "data_encoded = pd.get_dummies(data, columns=categorical_columns, drop_first=True)\n",
        "data_encoded.head(5)"
      ],
      "metadata": {
        "id": "iA2vVyN0UWiY"
      },
      "execution_count": null,
      "outputs": []
    },
    {
      "cell_type": "markdown",
      "source": [
        "After encoding, we store it in a new dataframe called `data_encoded`. In this new dataset, each categorical feature has been converted into a set of True/False columns.\n",
        "\n",
        "For example, `InternetService` which had categories {\"DSL\", \"Fiber optic\", \"No\"} are now represented by two columns: `InternetService_Fiber optic`, `InternetService_No` (DSL beingg the dropped category).  \n",
        "\n",
        "**Don't we need the values to be numeric?**\n",
        "\n",
        "True or false values are called boolean values. In Python, boolean values are treated 0 (False) and 1 (True) when used in numeric contexts. Many machine learning libraries (including scikit-learn) automatically read boolean values as numeric values.\n",
        "\n",
        "However, for the target variable (`Churn`) we need to explicitly convert the values to 0 and 1 to it is unambiguously numeric.  \n",
        "\n",
        "Let's check the datatypes of our new features\n"
      ],
      "metadata": {
        "id": "oVEf-5zduHEV"
      }
    },
    {
      "cell_type": "code",
      "source": [
        "# Checking the datatypes of categories in our new dataset\n",
        "print(data_encoded.dtypes)"
      ],
      "metadata": {
        "id": "P1Oxk28r0myC"
      },
      "execution_count": null,
      "outputs": []
    },
    {
      "cell_type": "markdown",
      "source": [
        "It looks like the`TotalCharges` feature datatype is an object. If we look at the values in the `TotalCharges` column, the datatype should be float. This likely happened because the data is improperly formatted. There could be numerous reasons, but here we have an unwanted blank space (\" \") where a numeric value is expected. Let's fix it"
      ],
      "metadata": {
        "id": "dDL5eKaFPR5r"
      }
    },
    {
      "cell_type": "code",
      "source": [
        "# Removing blank space from the column\n",
        "data_encoded['TotalCharges'] = data_encoded['TotalCharges'].str.strip()\n",
        "\n",
        "# Replace empty strings with NaN and convert to numeric\n",
        "data_encoded['TotalCharges'] = pd.to_numeric(data_encoded['TotalCharges'], errors='coerce')\n",
        "\n",
        "# Check the datatypes again\n",
        "print(data_encoded.dtypes)"
      ],
      "metadata": {
        "id": "iTTHeWyBNkbD"
      },
      "execution_count": null,
      "outputs": []
    },
    {
      "cell_type": "markdown",
      "source": [
        "There we go! Now we're ready to split the data into training and testing sets."
      ],
      "metadata": {
        "id": "yTCAxb-xROuF"
      }
    },
    {
      "cell_type": "markdown",
      "source": [
        "### *2.2.2 Separating Features and Target Variables*\n",
        "Next, we separate our features and target variable\n",
        "\n",
        "<details>\n",
        "<summary>Why separate Features and Target?</summary>\n",
        "\n",
        "In supervised learning, the target variable is what we want the model to predict.\n",
        "\n",
        "Sometimes the dataset includes the target variable we want predict, other times we might want to create a new one.\n",
        "\n",
        "We will be setting **'Churn'** (1 for churned customers, 0 for those who stayed)as our target variable.\n",
        "\n",
        "**Selecting Predictors**\n",
        "\n",
        "For our model, we will use all available features for our predictors *except* for our target variable and in the case that we created a target variable—any additional features used for the target variable.\n",
        "</details>\n"
      ],
      "metadata": {
        "id": "AVWmiYcB2nPU"
      }
    },
    {
      "cell_type": "code",
      "source": [
        "# Converting target to numerical & separating X (features) and y (target)\n",
        "X = data_encoded.drop('Churn', axis=1)\n",
        "y = data_encoded['Churn'].apply(lambda x: 1 if x == 'Yes' or x == 1 else 0)"
      ],
      "metadata": {
        "id": "UxiJE8o77mRn"
      },
      "execution_count": null,
      "outputs": []
    },
    {
      "cell_type": "markdown",
      "source": [
        "### *2.2.3 Splitting Training and Testing Sets*\n",
        "\n",
        "Now, we'll split the data into training and testing sets.\n",
        "\n",
        "We'll train our model on the training set and reserve the testing set to test how the model performs on unseen data (this simulates future customers). We'll utilize a stratified split to maintain the churn/no-churn ratio in both sets/\n",
        "\n",
        "Stratification is a method to preserve the proportion of each class in the target variable. Since we have a churn rate of 26% stratifying `Churn` variable will give us 26% churn rate in both training and testing sets."
      ],
      "metadata": {
        "id": "4OiT9ekA0LVX"
      }
    },
    {
      "cell_type": "code",
      "source": [
        "# importing necessary tools\n",
        "from sklearn.model_selection import train_test_split\n",
        "\n",
        "X_train, X_test, y_train, y_test = train_test_split(\n",
        "    X, y,\n",
        "    test_size = 0.2,\n",
        "    random_state = 707,\n",
        "    stratify = y) # keeps class proportion same in training and testing sets\n",
        "\n",
        "# Verify the sizes of your splits\n",
        "print(\"Training size:\", X_train.shape[0], \"Testing size:\", X_test.shape[0])\n",
        "print(\"Churn rate in training:\", y_train.mean(), \"Churn rate in test:\", y_test.mean())"
      ],
      "metadata": {
        "id": "GdX9ZazYoR5A"
      },
      "execution_count": null,
      "outputs": []
    },
    {
      "cell_type": "markdown",
      "source": [
        "We can see that stratification worked, with churn rates roughly equal for both training and testing sets.\n",
        "\n",
        "By splitting the data, we ensure that when we can evaluate our model on data it hasn't seen before. Which gives us a more realistic estimate of performance.\n",
        "\n",
        "**Run the code below and take a look at the predictors. Think about them. Does it make sense to include all of them?**\n",
        "\n",
        "<details>\n",
        "  <summary> Learn more </summary>\n",
        "\n",
        "  - If you recall from your reading, decision trees naturally select the most informative features (we will see how this works in a bit).\n",
        "\n",
        "  - Even if you believe a feature may not have any effect on the prediction, you never know what the model might uncover. It makes more sense to include all the features for the model to work its magic.\n",
        "</details>\n",
        "\n"
      ],
      "metadata": {
        "id": "klGeKb9XxB_B"
      }
    },
    {
      "cell_type": "code",
      "source": [
        "print(\"All features:\", X.columns)"
      ],
      "metadata": {
        "id": "iJ_CIRKHAfYy"
      },
      "execution_count": null,
      "outputs": []
    },
    {
      "cell_type": "markdown",
      "source": [
        "---"
      ],
      "metadata": {
        "id": "CKkSyzQfyisc"
      }
    },
    {
      "cell_type": "markdown",
      "source": [
        "## ***Step 3: Building a CART (Decision Tree)***\n",
        "\n",
        "- Building an Initial CART (Decision Tree)\n",
        "- Evaluating Initial CART (Decision Tree)\n",
        "- Tuning the CART (Decision Tree)\n",
        "- Evaluating Tuned CART (Decision Tree)\n",
        "\n",
        "### *3.1 Building an Initial CART (Decision Tree)*\n",
        "\n",
        "Now that we have finished preparing our data, let's build the decision tree. For our model, we will be using\n",
        "scikit‑learn’s 'DecisionTreeClassifier'.\n",
        "\n",
        "Since our target variable 'Churn' is binary, this is a classification problem—we are predicting discrete categories (Churn vs No Churn). If we are dealing with a classification problem, which criterion should we use to guide our decision tree splits?\n",
        "\n",
        "<details>\n",
        "<summary> Answer </summary>\n",
        "Gini Impurity or entropy!\n",
        "\n",
        "While CART decision trees use gini impurity by default, many implementations like scikit-learn allow you to choose entropy as the splitting criterion.\n",
        "</details>\n",
        "\n",
        "For this initial CART, we'll use the default hyperparameters to see how it does. Then we'll tune it.\n",
        "\n"
      ],
      "metadata": {
        "id": "Vz4mO8ccrS4G"
      }
    },
    {
      "cell_type": "code",
      "source": [
        "# Import the necessary tools\n",
        "from sklearn.tree import DecisionTreeClassifier\n",
        "\n",
        "# Building a basic CART (decision tree)\n",
        "clf = DecisionTreeClassifier(random_state = 707)\n",
        "clf.fit(X_train, y_train)\n",
        "\n",
        "# Making predictions on the test set\n",
        "y_pred = clf.predict(X_test)"
      ],
      "metadata": {
        "id": "WQeISyURKyDV"
      },
      "execution_count": null,
      "outputs": []
    },
    {
      "cell_type": "markdown",
      "source": [
        "Yup, that's it. We've now trained a basic decision tree on the training set and made predictions on the testing set. Let's see how good these predictions are."
      ],
      "metadata": {
        "id": "kI2uwXPsR_as"
      }
    },
    {
      "cell_type": "markdown",
      "source": [
        "### *3.2 Evaluating Initial CART (Decision Tree)*\n",
        "\n",
        "We'll evaluate the model using the confusion matrix and metrics succh as accuracy, precision and recall."
      ],
      "metadata": {
        "id": "tO89TbbYRe4q"
      }
    },
    {
      "cell_type": "code",
      "source": [
        "# Import the necessary tools\n",
        "from sklearn.metrics import confusion_matrix, accuracy_score, precision_score, recall_score\n",
        "\n",
        "# Confusion matrix\n",
        "cm = confusion_matrix(y_test, y_pred)\n",
        "print(\"Confusion Matrix:\")\n",
        "print(cm)\n",
        "\n",
        "# Calculating evaluation metrics\n",
        "baseline_accuracy = accuracy_score(y_test, y_pred)\n",
        "baseline_precision = precision_score(y_test, y_pred)\n",
        "baseline_recall = recall_score(y_test, y_pred)\n",
        "print(\"Baseline Accuracy:\", baseline_accuracy)\n",
        "print(\"Baseline Precision:\", baseline_precision)\n",
        "print(\"Baseline Recall:\", baseline_recall)"
      ],
      "metadata": {
        "id": "dU1MHze1qNzg"
      },
      "execution_count": null,
      "outputs": []
    },
    {
      "cell_type": "markdown",
      "source": [
        "**Confusion matrix:**\n",
        "\n",
        "**[841, 194]**\n",
        "\n",
        "**[193, 181]**\n",
        "\n",
        "- The first row is for all actual \"no churn\" instances, i.e. how many the model correctly identified as \"no churn\" and how many we incorrectly predicted as \"churn\" (false alarms).\n",
        "- The second row is for actual \"Yes churn\" instances, i.e. how many the model incorrectly predicted as \"no churn\" and how many were correctly predicted as \"churn\".\n",
        "\n",
        "Hence, it can be read like this:\n",
        "\n",
        "**[ Correct No Churn Prediction | Wrong Churn Prediction ]**\n",
        "\n",
        "**[ Wrong No Churn Prediction | Correct Churn Prediction ]**\n",
        "\n",
        "\n",
        "\n",
        "---\n",
        "\n",
        "\n",
        "\n",
        "**Evaluation Metrics Explained:**\n",
        "\n",
        "- Accuracy:\n",
        "This metric represents the proportion of total predictions that are correct. It is calculated as (True Positives + True Negatives) divided by the total number of samples. Accuracy gives a general idea of the model’s overall performance.\n",
        "\n",
        "- Precision:\n",
        "Precision tells us of the cases that the model flagged as churn, how many were actually churners. A low precision would mean many false alarms. We'd be bothering a lot of customers who wouldn't have left. Not good!\n",
        "\n",
        "- Recall:\n",
        "Recall tells us among actual churners, how many the model caught. A lower recall means the model is missing many churners. This means many customers leaving without us even knowing. Not good again.\n",
        "\n",
        "In other words, the `precision_score` is effectively *“If the model predicts churn, what % of those are truly churn?”* and `recall_score` is *“What % of true churners did the model identify?”*.\n",
        "\n",
        "*So, in our case we got Accuracy: 72.5%, Precision: 48.3%, Recall: 48.4%. We would interpret this as:\n",
        "- **Accuracy: 72.5%:** The model is correct 72.5% of the time. Keep in mind, the churn rate in the dataset is 26%, accuracy alone is misleading.\n",
        "- **Precision: 48.3%:** When the model says \"this customer will churn,\" it's only correct 48.3% of the time. So, 51.7% are false alarms.\n",
        "- **Recall: 48.4%:** The model catches 48.4% of actual churners, but 51.6% slip past undetected. We'll lose those customers if we relied on this model.\n",
        "\n",
        "In a marketing context, recall is very important. We don't want to miss too many true churners; losing a customer is costly. Maybe we might even be willing to tolerate some false alarmss (lower precision), especially if the retention campaign (e.g., sending an email or coupon) isn't too expensive and damaging to send to a non-churner.\n",
        "\n",
        "\n",
        "---\n",
        "\n",
        "\n",
        "Our initial CART was using default settings. By default, `DecisionTreeClassifier` in scikit-learn will grow the tree until leaves are pure or until it runs out of features. This can lead to overfitting (memorizing the data, instead of learning the patterns). We might be better off setting limits. The typical hyperparameters we tune for CART are:\n",
        "- `max_depth`\n",
        "- `min_samples_leaf`\n",
        "- `criterion`\n",
        "- `class_weight`\n",
        "\n",
        "Refer back to the text here for a reminder of what they do.\n"
      ],
      "metadata": {
        "id": "BU1S2jkpKN8r"
      }
    },
    {
      "cell_type": "markdown",
      "source": [
        "### *3.3 Tuning the CART (Decision Tree)*\n",
        "\n",
        "We'll use a systematic approach to finding the right hyperparameters. We will do this by creating a grid (GridSearchCV) of different values of the hyperparameters to test. GridSearchCV tests these different hyperparameters using a technique called cross-validation. We'll also optimize for a balance between precision and recall (either use an F1-score or ensure recall is reasonably high).\n",
        "\n",
        "<details>\n",
        "<summary> What is Cross-validation? </summary>\n",
        "Cross-validation assesses model performance by splitting the data into multiple training and validation sets.\n",
        "\n",
        "The most common method is the k-fold cross validation. This method divides the dataset into *k* equally sized 'folds'(parts). For each iteration, one fold is used as the validation set while the remaining *k-1* folds are used for training. This process is repeated *k* times, and the performance metric for each iteration is averaged.\n",
        "</details>\n",
        "\n",
        "<details>\n",
        "<summary> What is an F1 score? </summary>\n",
        "The F1 score is the harmonic mean of precision and recall. In this context, it provides a single measure that balances precision and reccall.\n",
        "\n",
        "This is useful to us because customer churn datasets are often imbalanced (fewer churners than non-churners), making relying on accuracy misleading.\n",
        "\n",
        "The F1 score gives us a more robust evaluation by making sure the model isn't just good at predicting the majority class, but the minority class as well. This means that a higher F1 score tells us the model does a better job at both catching churners and minimizing false alarms.\n",
        "\n"
      ],
      "metadata": {
        "id": "6O7Koup-Lubo"
      }
    },
    {
      "cell_type": "code",
      "source": [
        "# Importing the necessary tools\n",
        "from sklearn.model_selection import GridSearchCV\n",
        "\n",
        "# Define a grid of hyperparameters to search over\n",
        "param_grid = {\n",
        "    'max_depth': [3, 4, 5, 6, 7],\n",
        "    'min_samples_split': [2, 3, 10, 20, 30],\n",
        "    'criterion': ['gini', 'entropy'],\n",
        "    'class_weight': [None, 'balanced']\n",
        "}\n",
        "\n",
        "# Set up the grid search with cross-validation\n",
        "grid_clf = GridSearchCV(DecisionTreeClassifier(random_state = 707),\n",
        "                           param_grid,\n",
        "                           cv = 5,           # 5-fold cross-validation on training set\n",
        "                           scoring = 'f1')\n",
        "\n",
        "# Perform GridSearchCV with cross-validation to find best hyperparameters\n",
        "grid_clf.fit(X_train, y_train)\n",
        "\n",
        "print(\"Best Hyperparameters:\", grid_clf.best_params_)\n",
        "\n",
        "# Retrieve the best CART model from GridSearchCV\n",
        "tuned_clf = grid_clf.best_estimator_\n",
        "\n",
        "# Use the tuned model (tuned_clf) to make predictions on the test set\n",
        "y_tuned_pred = tuned_clf.predict(X_test)"
      ],
      "metadata": {
        "id": "XUTmLXoNLbHQ"
      },
      "execution_count": null,
      "outputs": []
    },
    {
      "cell_type": "markdown",
      "source": [
        "Here, we used `GridSearchCV` to try out every combination from `param_grid`, using 5-fold cross-validation on the training data to evaluate F1-score. Then we took the best combination and built a new model `tuned_clf`."
      ],
      "metadata": {
        "id": "ZLLbLiGT-Xsp"
      }
    },
    {
      "cell_type": "markdown",
      "source": [
        "### *3.4 Evaluating Tuned CART (Decision Tree)*\n",
        "\n"
      ],
      "metadata": {
        "id": "4_H32EWfoYSN"
      }
    },
    {
      "cell_type": "code",
      "source": [
        "# import the necessary tools\n",
        "from sklearn.metrics import classification_report\n",
        "\n",
        "# Print the evaluation metrics for the tuned model\n",
        "\n",
        "tuned_accuracy = accuracy_score(y_test, y_tuned_pred)\n",
        "tuned_precision = precision_score(y_test, y_tuned_pred)\n",
        "tuned_recall = recall_score(y_test, y_tuned_pred)\n",
        "print(\"Tuned Accuracy:\", tuned_accuracy)\n",
        "print(\"Tuned Precision:\", tuned_precision)\n",
        "print(\"Tuned Recall:\", tuned_recall)"
      ],
      "metadata": {
        "id": "LjSjoermoWsC"
      },
      "execution_count": null,
      "outputs": []
    },
    {
      "cell_type": "markdown",
      "source": [
        "**Did the model do any better?**\n",
        "\n",
        "Our tuned model got an accuracy of 71.2% (down from 72.5%), precision of 47.6% (down from 48.3), and a recall of 76.7% (up from 48.4):\n",
        "\n",
        "- **Accuracy slightly dropped:** The overall accuracy decreased by 1.3%, mostly because we're identifying more potential churners overall, including some who won't churn. But accuracy alone isn't the best measure when the classes are imbalanced—capturing more churners is typically worth a small trade-off in accuracy.\n",
        "\n",
        "- **Precision slightly dropped:** Precision is down slightly, meaning the model now has a bit more \"false alarms\"—some customers identified as likely to churn may actually remain. However, given the high cost of losing a customer, a modest decrease in precision is acceptable if it means significantly fewer customers slipping through unnoticed.\n",
        "\n",
        "- **Recall increased substantially:** Our new model correctly identifies 76.7% of actual churners, up from just 48.4%. From a marketing perspective, this is extremely valuable because we're now catching many more customers who might leave, allowing for timely interventions.\n",
        "\n",
        "\n",
        "**Bottom Line:**\n",
        "Hyperparameter tuning helped us build a model that's better aligned with marketing goals: significantly improving our ability to detect customers at risk (higher recall) at the modest expense of more false positives (slightly lower precision and accuracy). This aligns perfectly with practical marketing priorities—it's better to proactively engage customers unnecessarily than miss out on intervening with those truly likely to churn.\n",
        "\n",
        "\n",
        "**Try different hyperparameters**\n",
        "\n",
        "Modify `param_grid` with different or additional values to see if you can improve the model's performance.\n",
        "\n",
        "---"
      ],
      "metadata": {
        "id": "gi0BS8yyrCIJ"
      }
    },
    {
      "cell_type": "markdown",
      "source": [
        "## ***Step 4: Visualizing and Interpreting the CART (Decision Tree)***\n",
        "\n",
        "- Understanding Feature Importance\n",
        "- Visualizing the Tree\n",
        "\n",
        "\n",
        "### *4.1 Understanding Feature Importance*\n",
        "**Let's take a look at the most important features.**\n",
        "\n",
        "- **Importance of Feature Importances:** Feature importance scores quantify the contribution of each predictor to improving the model's performance (or capacity to reduce model's impurity). Basically, they tell you which features are most important in making predictions\n",
        "- **How to interpret:** A high importance score indicates that a feature was frequently used for splits and significantly decreased impurity. A low score means the opposite, it was not used frequently and does not decrease impurity."
      ],
      "metadata": {
        "id": "R1X2ygi4vjnn"
      }
    },
    {
      "cell_type": "code",
      "source": [
        "# Import necessary tools\n",
        "import matplotlib.pyplot as plt\n",
        "import seaborn as sns\n",
        "\n",
        "# Displaying and plotting feature importances for the tuned model\n",
        "importance = tuned_clf.feature_importances_\n",
        "for feature, score in zip(X.columns, importance):\n",
        "  print(f\"Feature: {feature}, Importance: {score:.4f}\")\n",
        "\n",
        "plt.figure(figsize = (10, 6))\n",
        "sns.barplot(x = importance, y = X.columns)\n",
        "plt.title(\"Tuned Model Feature Importances\")\n",
        "plt.xlabel(\"Importance Score\")\n",
        "plt.ylabel(\"Feature\")\n",
        "plt.show()"
      ],
      "metadata": {
        "id": "BCQUCZ5JrHWQ"
      },
      "execution_count": null,
      "outputs": []
    },
    {
      "cell_type": "markdown",
      "source": [
        "This plot illustrates the importance of understanding and visualizing feature importances. We can see here that the type of `Contract` is a significant factor (customers on longer contracts churn less), `tenure` is important, whether the customer has fiber optic internet (perhaps customers churn more due to hiiigher costs or better competition) also important.\n",
        "\n",
        "Now that we know which features make the most impact on predicting customer churn, we should look into what they mean.\n",
        "\n",
        "Before we get into that, let's take a look at the CART (decision tree) model itself."
      ],
      "metadata": {
        "id": "lr3mPP3b0bmi"
      }
    },
    {
      "cell_type": "markdown",
      "source": [
        "\n",
        "### *4.2 Visualizing the Tree*\n",
        "\n",
        "- sklearn\n",
        "- dtreeviz\n",
        "- export_text\n",
        "\n",
        "**The Importance of Visualization and Readability:**\n",
        "- **Why Visualize?**\n",
        "\n",
        "  Visualization is a critical part of data analysis because it transforms complex models into intuitive, graphical representations. With decision trees, visualization makes the model’s logic explicit by displaying the decision rules as branches, making it easier for both data scientists and non-technical stakeholders to understand the decision-making process.\n",
        "\n",
        "- **Readability of CART Decision Trees**\n",
        "\n",
        "  Decision trees are inherently interpretable—each split represents a clear if-then rule. This transparency is a major reason why they are popular in fields like finance and marketing.\n",
        "\n",
        "\n",
        "### *4.2.1 sklearn*\n",
        "Let's try an initial visualization using scitkit-learn's `plot_tree()` function:"
      ],
      "metadata": {
        "id": "WPz10gXYq_3C"
      }
    },
    {
      "cell_type": "code",
      "source": [
        "# import necessary tools\n",
        "from sklearn.tree import plot_tree\n",
        "\n",
        "# Visualizing the CART decision tree\n",
        "plt.figure(figsize = (30,16))\n",
        "plot_tree(tuned_clf, feature_names = X.columns,\n",
        "          class_names = [\"No Churn\", \"Churn\"],\n",
        "          filled = True, rounded = True, fontsize = 12)\n",
        "plt.title(\"Tuned CART Decision Tree\")\n",
        "plt.show()"
      ],
      "metadata": {
        "id": "Jnrf95w2vpRy"
      },
      "execution_count": null,
      "outputs": []
    },
    {
      "cell_type": "markdown",
      "source": [
        "While this tree gives us all the information we need about how the nodes are splitting and which features are being used, they can be dense and hard to read. Especially when we have `max_depth = 6` Inline code.\n",
        "\n",
        "\n",
        "### *4.2.2 dtreeviz*\n",
        "\n",
        "One way to address this readability issue is to use `dtreeviz`. This tool generates interactive, high-resolution visualizations with enhanced clarity:\n",
        "\n",
        "- It displays detailed node information, such as the distribution of class probabilities, number of samples, and impurity.\n",
        "- It uses intuitive graphical elements (like pie charts and color gradients) to represent splits and node statistics.\n",
        "- `dtreeviz` was developed to make decision tree outputs more accessible and interpretable—it has been used in both academic and industry settings to effectively communicate model decisions.\n",
        "\n",
        "For `dtreeviz` version 2.0 and later, the syntax is:"
      ],
      "metadata": {
        "id": "G-yNczhsHD4d"
      }
    },
    {
      "cell_type": "code",
      "source": [
        "!pip install --upgrade dtreeviz\n",
        "import logging\n",
        "import warnings\n",
        "import dtreeviz\n",
        "\n",
        "warnings.filterwarnings(\"ignore\", message=\".*X does not have valid feature names.*\")\n",
        "logging.getLogger('matplotlib.font_manager').setLevel(logging.ERROR)\n",
        "logging.getLogger('matplotlib.axes._base').setLevel(logging.ERROR)\n"
      ],
      "metadata": {
        "collapsed": true,
        "id": "wYCe3XM4aPxi"
      },
      "execution_count": null,
      "outputs": []
    },
    {
      "cell_type": "code",
      "source": [
        "#Make sure that all missing values have been replaced with 0\n",
        "X_train = X_train.fillna(0)\n",
        "X_test = X_test.fillna(0)\n",
        "\n",
        "# Now create the visualization using the new API:\n",
        "m = dtreeviz.model(tuned_clf, X_train, y_train,\n",
        "                   feature_names = X.columns,\n",
        "                   class_names = [\"No Churn\", \"Churn\"])\n",
        "m.view()"
      ],
      "metadata": {
        "id": "7OxCkiyQpTqQ"
      },
      "execution_count": null,
      "outputs": []
    },
    {
      "cell_type": "markdown",
      "source": [
        "**Starting from the top:**\n",
        "- We have the root node which asks the big question using the most important feature identified by the model, `Contract_Two year`:\n",
        "  - If we take a look at the root node, it's labeled `Contract_Two year`, this is the feature the model asks the question with.\n",
        "  - The black triangle (labeled 0.5) represents the queston being asked (\"Does the customer have a two year contract?). If the customer does not have a two year contract they would be labeled '0', which means 'No' (since 0 is less than 0.5, data goes left). Likewise, if customer has a two year contract, they would be labeled '1', which means yes (1 is greater than 0, so data goes right).\n",
        "  - This logic applies to every split until the leaf node.\n",
        "- The pie charts at the leaf nodes indicate the proportion of classes in the predictions (\"Churn\" vs. \"No Churn\"). Higher proportions of the \"Churn\" class highlight opportunities to target these segments of customers with retention campaigns.\n",
        "- The closer the features are to the top of the tree, the more impactful they are to predictions.\n",
        "\n",
        "Learn more about [dtreeviz here](https://www.tensorflow.org/decision_forests/tutorials/dtreeviz_colab)"
      ],
      "metadata": {
        "id": "Iy0hBRGEh2nw"
      }
    },
    {
      "cell_type": "markdown",
      "source": [
        "### *4.2.3 export_text*\n",
        "\n",
        "Scikit-learn also allows us to just print the questions asked by the CART model at each node."
      ],
      "metadata": {
        "id": "Y5eR2DuoJpgn"
      }
    },
    {
      "cell_type": "code",
      "source": [
        "# import necessary tools\n",
        "from sklearn.tree import export_text\n",
        "\n",
        "# Using export_text to extract the questions asked at each node\n",
        "tree_rules = export_text(tuned_clf, feature_names = X.columns)\n",
        "print(\"Decision Tree Rules:\", tree_rules)"
      ],
      "metadata": {
        "id": "rd5ANjrxJuh4"
      },
      "execution_count": null,
      "outputs": []
    },
    {
      "cell_type": "markdown",
      "source": [
        "They can be interpreted the same way as the graphs above. We have at the very top the first 'question', `Contract_Two year <= 0.50`. If the answer is 'yes' (they are not on a two-year contract, i.e. value 0), the tree goes to the left, which then checks if they are on a one-year contract, etc. Essentially, if a customer is on a month-to-month contract (both two-year and one-year flags are 0), the tree goes deeper into checking tenure and charges to predict churn. If they are on a long-term contract, the tree likely goes another way (probably predicting no churn or checking other factors).\n",
        "\n",
        "This aligns with marketing intuition: customers on month-to-month plans are more at risk of churn (because they have easy opportunities to leave each month). Those locked in a contract churn less (at least until their contract ends).\n",
        "\n",
        "---"
      ],
      "metadata": {
        "id": "dWHfvaSwwNjH"
      }
    },
    {
      "cell_type": "markdown",
      "source": [
        "## ***Step 5: Results and Marketing Insights***\n",
        "\n",
        "Now, let’s step back for a second—what does all this mean for you as a marketer? The CART model we've built isn’t just numbers and technical jargon; it’s actually a crystal ball that helps us predict who might leave us, and why. Here are some practical takeaways:\n",
        "\n",
        "- **Contract Type is Key:** Customers on month-to-month contracts (versus one-year or two-year contracts) are the most likely to leave. This makes sense, no long-term commitment makes switching easier.\n",
        "  - **Marketing Action:** Focus retention efforts on month-to-month customers. Nudge these customers toward longer-term plans with discounts or special perks. Making it attractive to commit will reduce churn.\n",
        "\n",
        "- **Tenure (Time with Company):** Newer customers need extra love. Those in their first few months are still deciding if the service is right for them.\n",
        "  - **Marketing Action:** A warm welcome goes a long way. Think personalized onboarding emails, friendly check-in caclls, or special promotions for the first few months. Make the first impression count.\n",
        "\n",
        "- **Monthly Charges:** Customers paying high monthly charges could be price-sensitive, making them more likely to jump ship.\n",
        "  - **Marketing Action:** Show these customers exactly what they're getting for their money. Offer loyalty discounts or clearly highlight premium features that justify the price.\n",
        "\n",
        "- **Services and Support (Matters more than You Think):** Our model reveals that customers without tech support are at higher risk of leaving—likely because when problems occur, they're left frustrated and unsupported.\n",
        "  - **Marketing Action:** Market the value of tech support or include a basic support service in standard plans to reduce frustration. If fiber optic users churn more, investigate if it’s due to service issues or competition, and address that with network improvements or competitive pricing.\n",
        "\n",
        "- **Not all Customers Churn Equally:** Recognize that the most important features don't tell the full story. Sometimes family status, having a partner, or even payment methods can influence churn rates. For example, electronic-check customers might be more likely to leave due to hassles in payment.\n",
        "  - **Marketing Action:** If possible target these specific groups with customized communication. Maybe older customers using electronic checks need simpler payment options or clear instructions to lubricate the friction.\n",
        "\n",
        "\n",
        "**Let’s get even more specific:**\n",
        "\n",
        "Our tree reveals that customers with “Month-to-month” contracts with no tech support is a particularly lethal combination for churn. A \"high-risk\" combination. We can double-check this insight by turning to out original dataset."
      ],
      "metadata": {
        "id": "ALD6kQwkw3zU"
      }
    },
    {
      "cell_type": "code",
      "source": [
        "# Analyze churn rate for specific segment: month-to-month & no tech support\n",
        "segment = data[(data['Contract']=='Month-to-month') & (data['TechSupport']=='No')]\n",
        "print(\"Churn rate for Month-to-Month + No Tech Support customers:\",\n",
        "      (segment['Churn']=='Yes').mean())\n"
      ],
      "metadata": {
        "id": "utk2P_YzsfX9"
      },
      "execution_count": null,
      "outputs": []
    },
    {
      "cell_type": "markdown",
      "source": [
        "This churn rate is 50.4%, that’s much higher than the average 26%. One out of every two customer with these features leave. That's a major insight. This segment of customers need immediate attention!\n",
        "\n",
        "**Communicating to Stakeholders:\n",
        "\n",
        "When you present these insights to your steam, stakeholders, or executives, keep it straightforward. For instance, you might say:\n",
        "\n",
        "- *“Our model can predict churn with about 71.2% accuracy and 76.7% recall. It identifies roughly 3 out of 4 would-be churners, giving us a chance to intervene early”*\n",
        "\n",
        "- *“The biggest reasons people leave are eeasy-to-exit contracts; being new customers (who are not fully convinced yet), and not having tech support.”*\n",
        "\n",
        "- *“Our best move would be to target retention campaigns—increasing the attractiveness of switching to annual contracts or including free support for customers.”*\n",
        "\n",
        "---"
      ],
      "metadata": {
        "id": "hM7x-rO0sjDJ"
      }
    },
    {
      "cell_type": "markdown",
      "source": [
        "## ***Step 6: Conclusion and Next Steps***\n",
        "\n",
        "Congratulations on completing the churn prediction activity! You’ve not only built a predictive model, but also interpreted it in a marketing context. Let's quickly recap what you've accomplished:\n",
        "\n",
        "1. **Getting to Know Your Data:** You've checked your data, cleaned it, and made sure it's ready for analysis. This step sets the foundation for everything that follows.\n",
        "2. **Model Training and Tuning:** You started with a simple CART (decision tree), then fine-tuned it to make good decisions.\n",
        "3. **Evaluating the Model:** You learned how accuracy isn't everything. Metrics like recall and precision tell you if the model really helps you predict churn rate.\n",
        "4. **Turning Numbers Into Action:** And the most crucial step—figuring out what the data means and how we can take advantage in a marketing context.\n",
        "\n",
        "Remember, these real value here lies in not just building models, but translating these insights into smart marketing decisions. Knowing **why** customers churn helps you craft better experiences, keep your customers happy, and as a consequence, increase shareholder value.\n",
        "\n",
        "**Next Steps:**\n",
        "\n",
        "- **Try advanced models:** Decision trees are great for clarity, but if you’re looking for even more accurate predictions, you can explore advanced models like Random Forests or Gradient Boosting. They might be more accurate but slightly harder to interpret. However, tools like SHAP values help explain these complex models clearly.\n",
        "\n",
        "- **Think about value, not just churn:**\n",
        " Not all customers are created equal—some bring more revenue than others. If you have customer value data, why not tweak the model to prioritize keeping your most valuable customers? It’s like focusing extra attention on your VIPs.\n",
        "\n",
        "- **Put the model into action:** In the real world, you'd automate this model to regularly check your customer base and identify who’s likely to churn in advance. Imagine a system that flags at-risk customers each month, allowing your marketing team to step in before it's too late.\n",
        "- **Keep your model fresh:** Customer preferences evolve, and new competitors emerge. It’s important to regularly retrain and update your model so it stays relevant. Think of it like regularly updating your apps or refreshing your playlists.\n",
        "\n",
        "By incorporating these improvements and considerations, this activity has hopefully become a comprehensive learning resource. You’ve seen not just the how of building a churn model, but also the why at each step, all grounded in real-world marketing relevance. Keep exploring and happy analyzing!"
      ],
      "metadata": {
        "id": "kRUlbe68slP7"
      }
    }
  ]
}