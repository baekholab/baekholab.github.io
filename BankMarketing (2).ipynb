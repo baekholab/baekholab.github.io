{
  "cells": [
    {
      "cell_type": "markdown",
      "metadata": {
        "id": "qXqKBcEq3WTS"
      },
      "source": [
        "# Bank Marketing Campaign Analysis Using Random Forests\n",
        "\n",
        "**by Sean Kim**\n",
        "\n",
        "*Welcome, marketers and aspiring data scientists! Now that you have an understanding of random forest models, you'll be tackling a real-world bank marketing problem. We will predict which customers will subscribe to a term deposit. We'll explain each step in detail, how torelate the results to real-world marketing actions, and invite you to try things out for yourself.*\n",
        "\n",
        "---"
      ]
    },
    {
      "cell_type": "markdown",
      "metadata": {
        "id": "LqotThBa3ex5"
      },
      "source": [
        "## ***1. Introduction***\n",
        "\n",
        "Imagine you work for a bank called Baekho Bank. You’re tasked to improve subscription rates for term deposits (fixed-term investment in a bank). In order to do this, you decide to build and tune a random forest model to predict whether customers subscribe to the term deposit using data from Baekho Bank’s marketing campaign.\n",
        "\n",
        "Better predictions mean the bank can identify likely customers and understand what factors influence their decisions. This not only saves time and money in marketing but also provides insights into customer behavior (for example, we might discover that customers who had a positive response in a previous campaign or spoke longer on the call are more likely to subscribe again).\n",
        "\n",
        "This activity will go step-by-step, from exploring the data to tuning a random forest model, and communicating the results. By the end, you will understand how the data features relate to marketing outcomes and how hyperparameter tuning can improve model performance.\n",
        "\n",
        "The [UCI Bank Marketing dataset](https://archive.ics.uci.edu/dataset/222/bank+marketing) you will be using comes from direct phone-call campaigns conducted by a Portuguese bank between 2008 and 2010​. Each record corresponds to a client contact, with the goal of predicting whether the client will subscribe to a term deposit (denoted by y = \"yes\" or \"no\"). There are four different datasets included in the download link, we will be using the one titled, 'bank-additional-full.csv'.\n",
        "\n",
        "Download the dataset from the [UCI Repository here](https://archive.ics.uci.edu/dataset/222/bank+marketing) and let's begin!\n",
        "\n",
        "---"
      ]
    },
    {
      "cell_type": "markdown",
      "metadata": {
        "id": "WJymijuk_DWX"
      },
      "source": [
        "## ***2. Load the Data***\n",
        "\n",
        "- Dataset Loading\n",
        "- Exploratory Data Analysis (EDA)\n",
        "\n",
        "### *1.1 Dataset Loading*\n",
        "\n",
        "First, we need to load the dataset. The data is available from the UCI Machine Learning Repository. We will download the Bank Marketing dataset in CSV format (which is separated by semicolons). There are four versions of this dataset when you download it; we will use the \"bank-additional-full.csv\" dataset with all 41,188 examples and 20 input features\n",
        "\n"
      ]
    },
    {
      "cell_type": "code",
      "execution_count": null,
      "metadata": {
        "colab": {
          "base_uri": "https://localhost:8080/",
          "height": 74
        },
        "id": "DlrkwkoX3CN8",
        "outputId": "84b52056-7035-4104-d027-1eb5ba4abf7a"
      },
      "outputs": [
        {
          "data": {
            "text/html": [
              "\n",
              "     <input type=\"file\" id=\"files-dba42d53-2c85-46ee-81d0-f97dcdd4bf12\" name=\"files[]\" multiple disabled\n",
              "        style=\"border:none\" />\n",
              "     <output id=\"result-dba42d53-2c85-46ee-81d0-f97dcdd4bf12\">\n",
              "      Upload widget is only available when the cell has been executed in the\n",
              "      current browser session. Please rerun this cell to enable.\n",
              "      </output>\n",
              "      <script>// Copyright 2017 Google LLC\n",
              "//\n",
              "// Licensed under the Apache License, Version 2.0 (the \"License\");\n",
              "// you may not use this file except in compliance with the License.\n",
              "// You may obtain a copy of the License at\n",
              "//\n",
              "//      http://www.apache.org/licenses/LICENSE-2.0\n",
              "//\n",
              "// Unless required by applicable law or agreed to in writing, software\n",
              "// distributed under the License is distributed on an \"AS IS\" BASIS,\n",
              "// WITHOUT WARRANTIES OR CONDITIONS OF ANY KIND, either express or implied.\n",
              "// See the License for the specific language governing permissions and\n",
              "// limitations under the License.\n",
              "\n",
              "/**\n",
              " * @fileoverview Helpers for google.colab Python module.\n",
              " */\n",
              "(function(scope) {\n",
              "function span(text, styleAttributes = {}) {\n",
              "  const element = document.createElement('span');\n",
              "  element.textContent = text;\n",
              "  for (const key of Object.keys(styleAttributes)) {\n",
              "    element.style[key] = styleAttributes[key];\n",
              "  }\n",
              "  return element;\n",
              "}\n",
              "\n",
              "// Max number of bytes which will be uploaded at a time.\n",
              "const MAX_PAYLOAD_SIZE = 100 * 1024;\n",
              "\n",
              "function _uploadFiles(inputId, outputId) {\n",
              "  const steps = uploadFilesStep(inputId, outputId);\n",
              "  const outputElement = document.getElementById(outputId);\n",
              "  // Cache steps on the outputElement to make it available for the next call\n",
              "  // to uploadFilesContinue from Python.\n",
              "  outputElement.steps = steps;\n",
              "\n",
              "  return _uploadFilesContinue(outputId);\n",
              "}\n",
              "\n",
              "// This is roughly an async generator (not supported in the browser yet),\n",
              "// where there are multiple asynchronous steps and the Python side is going\n",
              "// to poll for completion of each step.\n",
              "// This uses a Promise to block the python side on completion of each step,\n",
              "// then passes the result of the previous step as the input to the next step.\n",
              "function _uploadFilesContinue(outputId) {\n",
              "  const outputElement = document.getElementById(outputId);\n",
              "  const steps = outputElement.steps;\n",
              "\n",
              "  const next = steps.next(outputElement.lastPromiseValue);\n",
              "  return Promise.resolve(next.value.promise).then((value) => {\n",
              "    // Cache the last promise value to make it available to the next\n",
              "    // step of the generator.\n",
              "    outputElement.lastPromiseValue = value;\n",
              "    return next.value.response;\n",
              "  });\n",
              "}\n",
              "\n",
              "/**\n",
              " * Generator function which is called between each async step of the upload\n",
              " * process.\n",
              " * @param {string} inputId Element ID of the input file picker element.\n",
              " * @param {string} outputId Element ID of the output display.\n",
              " * @return {!Iterable<!Object>} Iterable of next steps.\n",
              " */\n",
              "function* uploadFilesStep(inputId, outputId) {\n",
              "  const inputElement = document.getElementById(inputId);\n",
              "  inputElement.disabled = false;\n",
              "\n",
              "  const outputElement = document.getElementById(outputId);\n",
              "  outputElement.innerHTML = '';\n",
              "\n",
              "  const pickedPromise = new Promise((resolve) => {\n",
              "    inputElement.addEventListener('change', (e) => {\n",
              "      resolve(e.target.files);\n",
              "    });\n",
              "  });\n",
              "\n",
              "  const cancel = document.createElement('button');\n",
              "  inputElement.parentElement.appendChild(cancel);\n",
              "  cancel.textContent = 'Cancel upload';\n",
              "  const cancelPromise = new Promise((resolve) => {\n",
              "    cancel.onclick = () => {\n",
              "      resolve(null);\n",
              "    };\n",
              "  });\n",
              "\n",
              "  // Wait for the user to pick the files.\n",
              "  const files = yield {\n",
              "    promise: Promise.race([pickedPromise, cancelPromise]),\n",
              "    response: {\n",
              "      action: 'starting',\n",
              "    }\n",
              "  };\n",
              "\n",
              "  cancel.remove();\n",
              "\n",
              "  // Disable the input element since further picks are not allowed.\n",
              "  inputElement.disabled = true;\n",
              "\n",
              "  if (!files) {\n",
              "    return {\n",
              "      response: {\n",
              "        action: 'complete',\n",
              "      }\n",
              "    };\n",
              "  }\n",
              "\n",
              "  for (const file of files) {\n",
              "    const li = document.createElement('li');\n",
              "    li.append(span(file.name, {fontWeight: 'bold'}));\n",
              "    li.append(span(\n",
              "        `(${file.type || 'n/a'}) - ${file.size} bytes, ` +\n",
              "        `last modified: ${\n",
              "            file.lastModifiedDate ? file.lastModifiedDate.toLocaleDateString() :\n",
              "                                    'n/a'} - `));\n",
              "    const percent = span('0% done');\n",
              "    li.appendChild(percent);\n",
              "\n",
              "    outputElement.appendChild(li);\n",
              "\n",
              "    const fileDataPromise = new Promise((resolve) => {\n",
              "      const reader = new FileReader();\n",
              "      reader.onload = (e) => {\n",
              "        resolve(e.target.result);\n",
              "      };\n",
              "      reader.readAsArrayBuffer(file);\n",
              "    });\n",
              "    // Wait for the data to be ready.\n",
              "    let fileData = yield {\n",
              "      promise: fileDataPromise,\n",
              "      response: {\n",
              "        action: 'continue',\n",
              "      }\n",
              "    };\n",
              "\n",
              "    // Use a chunked sending to avoid message size limits. See b/62115660.\n",
              "    let position = 0;\n",
              "    do {\n",
              "      const length = Math.min(fileData.byteLength - position, MAX_PAYLOAD_SIZE);\n",
              "      const chunk = new Uint8Array(fileData, position, length);\n",
              "      position += length;\n",
              "\n",
              "      const base64 = btoa(String.fromCharCode.apply(null, chunk));\n",
              "      yield {\n",
              "        response: {\n",
              "          action: 'append',\n",
              "          file: file.name,\n",
              "          data: base64,\n",
              "        },\n",
              "      };\n",
              "\n",
              "      let percentDone = fileData.byteLength === 0 ?\n",
              "          100 :\n",
              "          Math.round((position / fileData.byteLength) * 100);\n",
              "      percent.textContent = `${percentDone}% done`;\n",
              "\n",
              "    } while (position < fileData.byteLength);\n",
              "  }\n",
              "\n",
              "  // All done.\n",
              "  yield {\n",
              "    response: {\n",
              "      action: 'complete',\n",
              "    }\n",
              "  };\n",
              "}\n",
              "\n",
              "scope.google = scope.google || {};\n",
              "scope.google.colab = scope.google.colab || {};\n",
              "scope.google.colab._files = {\n",
              "  _uploadFiles,\n",
              "  _uploadFilesContinue,\n",
              "};\n",
              "})(self);\n",
              "</script> "
            ],
            "text/plain": [
              "<IPython.core.display.HTML object>"
            ]
          },
          "metadata": {},
          "output_type": "display_data"
        },
        {
          "name": "stdout",
          "output_type": "stream",
          "text": [
            "Saving bank-additional-full.csv to bank-additional-full (1).csv\n"
          ]
        }
      ],
      "source": [
        "# Run this cell and add the dataset to this directory\n",
        "from google.colab import files\n",
        "uploaded = files.upload()"
      ]
    },
    {
      "cell_type": "code",
      "execution_count": null,
      "metadata": {
        "colab": {
          "base_uri": "https://localhost:8080/"
        },
        "id": "VVYIHa0WYBxS",
        "outputId": "77951c8e-919b-4e37-f8e5-b82c384f5294"
      },
      "outputs": [
        {
          "name": "stdout",
          "output_type": "stream",
          "text": [
            "Dataset loaded successfully\n"
          ]
        }
      ],
      "source": [
        "# Load the dataset\n",
        "import pandas as pd\n",
        "data = pd.read_csv('bank-additional-full.csv', sep = ';')\n",
        "print(\"Dataset loaded successfully\")"
      ]
    },
    {
      "cell_type": "markdown",
      "metadata": {
        "id": "IQkwgKY-u4AA"
      },
      "source": [
        "### *1.2 Exploratory Data Analysis (EDA)*\n",
        "\n",
        "We will perform a very minimal exploratory data analysis (EDA). We'll focus on understanding the difference in classes in our dataset. For a more in depth guide on EDA's consider this guide by [Analytics Vidhya](https://www.analyticsvidhya.com/blog/2021/08/how-to-perform-exploratory-data-analysis-a-guide-for-beginners/)."
      ]
    },
    {
      "cell_type": "code",
      "execution_count": null,
      "metadata": {
        "colab": {
          "base_uri": "https://localhost:8080/"
        },
        "id": "5NtzVPPJuiza",
        "outputId": "0b236fbf-f901-4875-855d-41905de4a4ce"
      },
      "outputs": [
        {
          "name": "stdout",
          "output_type": "stream",
          "text": [
            "   age        job  marital    education  default housing loan    contact  \\\n",
            "0   56  housemaid  married     basic.4y       no      no   no  telephone   \n",
            "1   57   services  married  high.school  unknown      no   no  telephone   \n",
            "2   37   services  married  high.school       no     yes   no  telephone   \n",
            "3   40     admin.  married     basic.6y       no      no   no  telephone   \n",
            "4   56   services  married  high.school       no      no  yes  telephone   \n",
            "\n",
            "  month day_of_week  ...  campaign  pdays  previous     poutcome emp.var.rate  \\\n",
            "0   may         mon  ...         1    999         0  nonexistent          1.1   \n",
            "1   may         mon  ...         1    999         0  nonexistent          1.1   \n",
            "2   may         mon  ...         1    999         0  nonexistent          1.1   \n",
            "3   may         mon  ...         1    999         0  nonexistent          1.1   \n",
            "4   may         mon  ...         1    999         0  nonexistent          1.1   \n",
            "\n",
            "   cons.price.idx  cons.conf.idx  euribor3m  nr.employed   y  \n",
            "0          93.994          -36.4      4.857       5191.0  no  \n",
            "1          93.994          -36.4      4.857       5191.0  no  \n",
            "2          93.994          -36.4      4.857       5191.0  no  \n",
            "3          93.994          -36.4      4.857       5191.0  no  \n",
            "4          93.994          -36.4      4.857       5191.0  no  \n",
            "\n",
            "[5 rows x 21 columns]\n",
            "Index(['age', 'job', 'marital', 'education', 'default', 'housing', 'loan',\n",
            "       'contact', 'month', 'day_of_week', 'duration', 'campaign', 'pdays',\n",
            "       'previous', 'poutcome', 'emp.var.rate', 'cons.price.idx',\n",
            "       'cons.conf.idx', 'euribor3m', 'nr.employed', 'y'],\n",
            "      dtype='object')\n"
          ]
        }
      ],
      "source": [
        "# Taking a look at the first few rows\n",
        "print(data.head(5))\n",
        "\n",
        "# Listing all features\n",
        "print(data.columns)"
      ]
    },
    {
      "cell_type": "markdown",
      "metadata": {
        "id": "RkkPZcVHb2-f"
      },
      "source": [
        "### ***Understanding the Features***\n",
        "\n",
        "Let's describe each column (feature) in simple terms. This dataset contains a mix of personal attributes, details of the contact campaign, and some external economic indicators. There is also an output column y which is our target (whether the client subscribed to a term deposit). Feature explanations:\n",
        "\n",
        "- Client Information: (who the customer is)\n",
        "  - `age`: Age of the client (numeric).\n",
        "  - `job`: Type of job (categorical, e.g. admin, technician, services, etc.).\n",
        "  - `marital`: Marital status (categorical, e.g. single, married, divorced).\n",
        "  - `education`: Education level (categorical, e.g. basic 9y, high school, university, etc.).\n",
        "  - `default`: Whether the client has credit in default (binary, yes or no).\n",
        "  - `housing`: Whether the client has a housing loan (binary, yes or no).\n",
        "  - `loan`: Whether the client has a personal loan (binary, yes or no).\n",
        "- Last Contact (current campaign): (how and when the client was contacted in this campaign)\n",
        "  - `contact`: Contact communication type (categorical, e.g. cellular or telephone).\n",
        "  - `month`: Last contact month of year (categorical, e.g. jan, feb, ..., dec).\n",
        "  - `day_of_week`: Last contact day of the week (categorical, e.g. mon, tue, wed, thu, fri).\n",
        "  - `duration`: Last contact duration in seconds (numeric). Important: A longer call often means a higher chance they said yes. (Note that in a real scenario, we wouldn't know duration in advance – it's more of a retrospective indicator.)\n",
        "- Previous Campaign: (information about any prior contacts with this client)\n",
        "  - `campaign`: Number of contacts performed during this campaign (numeric, includes the current contact).\n",
        "  - `pdays`: Days passed since the client was last contacted in a previous campaign (numeric; -1 means not previously contacted).\n",
        "  - `previous`: Number of contacts before this campaign (numeric).\n",
        "  - `poutcome`: Outcome of the previous marketing campaign for this client (categorical: success, failure, or nonexistent if no previous campaign).\n",
        "- Economic Context: (external social/economic indicators at the time of the campaign)\n",
        "  - `emp.var.rate`: Employment variation rate (quarterly percentage, numeric).\n",
        "  - `cons.price.idx`: Consumer price index (monthly, numeric).\n",
        "  - `cons.conf.idx`: Consumer confidence index (monthly, numeric).\n",
        "  - `euribor3m`: Euribor 3-month interest rate (daily, numeric).\n",
        "  - `nr.employed`: Number of employees (quarterly, numeric).\n",
        "- Output (Target):\n",
        "  - `y`: Did the client subscribe a term deposit? (binary: yes or no). This is what we want to predict.\n",
        "\n",
        "This information is also available on the [UCI repository](https://archive.ics.uci.edu/dataset/222/bank+marketing) you download the dataset from.\n",
        "\n",
        "Now, let's take some time to understand the data distribution. Let's see how many customers subscribed vs. not."
      ]
    },
    {
      "cell_type": "code",
      "execution_count": null,
      "metadata": {
        "colab": {
          "base_uri": "https://localhost:8080/"
        },
        "id": "bcjdOpUeYPxd",
        "outputId": "663617a9-21be-4102-de94-09d32448d577"
      },
      "outputs": [
        {
          "name": "stdout",
          "output_type": "stream",
          "text": [
            "Dataset shape: (41188, 21)\n",
            "y\n",
            "no     36548\n",
            "yes     4640\n",
            "Name: count, dtype: int64\n",
            "Subscription Success Rate: 11.27%\n"
          ]
        }
      ],
      "source": [
        "# Print the shape of the dataset, i.e., the number of rows and columns\n",
        "print(\"Dataset shape:\", data.shape)\n",
        "\n",
        "# Count the number of occurrences of each unique value in the 'y' column\n",
        "subscription_counts = data['y'].value_counts()\n",
        "\n",
        "# Display the counts for each subscription outcome (e.g., 'yes' and 'no')\n",
        "print(subscription_counts)\n",
        "\n",
        "# Calculate and print the success rate (percentage of 'yes' responses)\n",
        "# This is computed as the count of 'yes' divided by the total number of records,\n",
        "# then formatted as a percentage with two decimal places.\n",
        "print(f\"Subscription Success Rate: {subscription_counts['yes'] / len(data):.2%}\")\n"
      ]
    },
    {
      "cell_type": "markdown",
      "metadata": {
        "id": "ddQH1pdkxyns"
      },
      "source": [
        "We can see this dataset contains information on 41,188 instances, of which 36,548 phone calls ended in no subscription and 4,640 phone calls ended with a subscription. This gives us a subscription success rate of about 11.27%.\n",
        "\n",
        "Do you see a problem here?\n",
        "<details>\n",
        "<summary> learn more </summary>\n",
        "\n",
        "We have an imbalance in the data. We have much more customers who do not subscribe vs. those who do (36,548 vs. 4640).\n",
        "\n",
        "This means our model needs to be careful.We’ll keep this in mind when evaluating model performance. See if you can spot the techniques we use to handle this.\n",
        "\n",
        "This imbalance is quite a bit bigger than our CART activity.\n",
        "</details>\n",
        "\n",
        "---\n"
      ]
    },
    {
      "cell_type": "markdown",
      "metadata": {
        "id": "9yXvR_dHja3b"
      },
      "source": [
        "## ***2. Data Cleaning and Preprocessing***\n",
        "\n",
        "- Data Cleaning\n",
        "- Data Preprocessing\n",
        "\n",
        "### ***2.1 Data Cleaning***\n",
        "\n",
        "Now that we know what have a better idea of what data looks like, we need to ensure that it is ready for modeling.\n",
        "\n",
        "Real-world data often come with missing values and inconsistencies. The first thing we will do is to check for nulls and strange values"
      ]
    },
    {
      "cell_type": "code",
      "execution_count": null,
      "metadata": {
        "colab": {
          "base_uri": "https://localhost:8080/"
        },
        "id": "an09yGUYjpqN",
        "outputId": "ba73ca0b-0f18-4abb-8c41-6c2761fc82a8"
      },
      "outputs": [
        {
          "name": "stdout",
          "output_type": "stream",
          "text": [
            "Missing values per column: age               0\n",
            "job               0\n",
            "marital           0\n",
            "education         0\n",
            "default           0\n",
            "housing           0\n",
            "loan              0\n",
            "contact           0\n",
            "month             0\n",
            "day_of_week       0\n",
            "duration          0\n",
            "campaign          0\n",
            "pdays             0\n",
            "previous          0\n",
            "poutcome          0\n",
            "emp.var.rate      0\n",
            "cons.price.idx    0\n",
            "cons.conf.idx     0\n",
            "euribor3m         0\n",
            "nr.employed       0\n",
            "y                 0\n",
            "dtype: int64\n",
            "Unique Values: age                 78\n",
            "job                 12\n",
            "marital              4\n",
            "education            8\n",
            "default              3\n",
            "housing              3\n",
            "loan                 3\n",
            "contact              2\n",
            "month               10\n",
            "day_of_week          5\n",
            "duration          1544\n",
            "campaign            42\n",
            "pdays               27\n",
            "previous             8\n",
            "poutcome             3\n",
            "emp.var.rate        10\n",
            "cons.price.idx      26\n",
            "cons.conf.idx       26\n",
            "euribor3m          316\n",
            "nr.employed         11\n",
            "y                    2\n",
            "dtype: int64\n"
          ]
        }
      ],
      "source": [
        "# Checking for missing values per feature\n",
        "print(\"Missing values per column:\", data.isnull().sum())\n",
        "\n",
        "# How many unique values in each feature (to look for any ID features that aren't helpful)\n",
        "print(\"Unique Values:\", data.nunique())"
      ]
    },
    {
      "cell_type": "markdown",
      "metadata": {
        "id": "AntoKtkV1CZW"
      },
      "source": [
        "### ***2.2 Data Preprocessing***\n",
        "\n",
        "Data preprocessing is the process of cleaning, transforming, and organizing raw data into a format that is suitable for analysis and machine learning. We'll do it in the following ways.\n",
        "\n",
        "- Separating Features and Target Variables\n",
        "- Converting Categorical Variables\n",
        "- Splitting Training and Testing Sets\n",
        "\n",
        "\n",
        "\n",
        "### *2.2.1 Separating Feature and Target Variables*\n",
        "\n",
        "This involves dividing your dataset into two parts: the input features and the target variable (the outcome you want to predict).\n",
        "\n"
      ]
    },
    {
      "cell_type": "code",
      "execution_count": null,
      "metadata": {
        "id": "_Lxtirc8zTAX"
      },
      "outputs": [],
      "source": [
        "# Separate target and features\n",
        "y = data['y']                  # target\n",
        "X = data.drop('y', axis=1)     # features"
      ]
    },
    {
      "cell_type": "markdown",
      "metadata": {
        "id": "kv6inqaM98mu"
      },
      "source": [
        "### 2.2.2 ***Converting Categorical Variables***\n",
        "\n",
        "Converting categorical variables is the process of transforming text-based or nominal data (e.g., \"male\"/\"female\", \"blue\"/\"red\"/\"green\") into a numerical format that machine learning models can interpret. We'll be using one-hot encoding like the decision tree exercise."
      ]
    },
    {
      "cell_type": "code",
      "execution_count": null,
      "metadata": {
        "colab": {
          "base_uri": "https://localhost:8080/"
        },
        "id": "C0dXeXjJ96cm",
        "outputId": "68f73928-c2fb-4630-e9ab-7ef283bc91d8"
      },
      "outputs": [
        {
          "name": "stdout",
          "output_type": "stream",
          "text": [
            "Features before encoding: 20\n",
            "Features after encoding: 53\n"
          ]
        }
      ],
      "source": [
        "# One-hot encode the categorical features in the DataFrame X.\n",
        "# pd.get_dummies() converts categorical variables into multiple binary (dummy) columns.\n",
        "# Setting drop_first=True removes the first level of each categorical variable to avoid redundancy (dummy variable trap).\n",
        "X_encoded = pd.get_dummies(X, drop_first=True)\n",
        "\n",
        "# Print the number of features (columns) before one-hot encoding.\n",
        "print(\"Features before encoding:\", X.shape[1])\n",
        "\n",
        "# Print the number of features (columns) after one-hot encoding.\n",
        "print(\"Features after encoding:\", X_encoded.shape[1])\n"
      ]
    },
    {
      "cell_type": "markdown",
      "metadata": {
        "id": "RhmA8Gtbdun3"
      },
      "source": [
        "After encoding, the number of feature columns increases (for example, job which had 12 categories becomes 11 dummy columns since we dropped one as reference). We print the feature count before and after encoding to see this. The stratified split ensures the roughly 11% positive rate is maintained in both train and test sets."
      ]
    },
    {
      "cell_type": "markdown",
      "metadata": {
        "id": "tzJXqN9B-LCZ"
      },
      "source": [
        "### ***2.2.3 Splitting Training and Testing Sets***\n",
        "\n",
        "Here we divide the data into separate subsets: one for training the model (training set) and one for evaluating its performance (testing set)."
      ]
    },
    {
      "cell_type": "code",
      "execution_count": null,
      "metadata": {
        "colab": {
          "base_uri": "https://localhost:8080/"
        },
        "id": "8okUk2Jr-HBD",
        "outputId": "d91b5696-3cd7-4755-f05c-7d05b92f8c10"
      },
      "outputs": [
        {
          "name": "stdout",
          "output_type": "stream",
          "text": [
            "Training samples: 32950\n",
            "Testing samples: 8238\n"
          ]
        }
      ],
      "source": [
        "# Import train_test_split to split data into training and testing sets\n",
        "from sklearn.model_selection import train_test_split\n",
        "\n",
        "# Split the data into training and testing subsets\n",
        "# X_encoded: Feature matrix after one-hot encoding\n",
        "# y: Target variable\n",
        "# test_size=0.2 means 20% of the data will be used for testing\n",
        "# random_state=707 ensures reproducibility of the split\n",
        "# stratify=y makes sure the class distribution is preserved in both training and testing sets\n",
        "X_train, X_test, y_train, y_test = train_test_split(\n",
        "    X_encoded, y, test_size=0.2, random_state=707, stratify=y)\n",
        "\n",
        "# Print the number of training samples\n",
        "print(\"Training samples:\", X_train.shape[0])\n",
        "# Print the number of testing samples\n",
        "print(\"Testing samples:\", X_test.shape[0])\n"
      ]
    },
    {
      "cell_type": "markdown",
      "metadata": {
        "id": "EA4X7gIWAHpZ"
      },
      "source": [
        "Now we have X_train, y_train for training and X_test, y_test for testing. We are ready to train a model!"
      ]
    },
    {
      "cell_type": "markdown",
      "metadata": {
        "id": "3i9t_Kg8AXn5"
      },
      "source": [
        "## ***3. Train a Basic Random Forest Model***\n",
        "\n",
        "Before tuning hyperparameters, let's start with a basic random forest classifier using default settings. This will be our baseline model. A random forest is essentially an ensemble of many decision trees. Each tree learns to split the data based on features to make a prediction, and the forest averages their results.\n",
        "\n",
        "We'll train the random forest on the training set and then evaluate it on the test set. We will look at:\n",
        "\n",
        "- Accuracy: Overall, what fraction of predictions were correct.\n",
        "- Precision for \"yes\": Of the clients our model predicted \"yes\", how many were actually yes (this tells us how precise the model is when it says yes).\n",
        "- Recall for \"yes\": Of all the actual yes clients, how many did the model correctly identify (this tells us how sensitive the model is to the positive class).\n",
        "- Confusion Matrix: A table showing correct and incorrect predictions for each class (\"yes\"/\"no\").\n",
        "\n",
        "Let's train the model and print these metrics:"
      ]
    },
    {
      "cell_type": "code",
      "execution_count": null,
      "metadata": {
        "colab": {
          "base_uri": "https://localhost:8080/"
        },
        "id": "dLh_RryA-RUW",
        "outputId": "1fe764a2-d4b8-43ae-8c20-0baaf2677ca8"
      },
      "outputs": [
        {
          "name": "stdout",
          "output_type": "stream",
          "text": [
            "Baseline Accuracy: 0.916\n",
            "Baseline Precision: 0.679\n",
            "Baseline Recall: 0.474\n",
            "Confusion Matrix:\n",
            " [[7102  208]\n",
            " [ 488  440]]\n"
          ]
        }
      ],
      "source": [
        "# importing the necessary tools\n",
        "from sklearn.ensemble import RandomForestClassifier\n",
        "from sklearn.metrics import accuracy_score, precision_score, recall_score, confusion_matrix\n",
        "\n",
        "# Train a baseline Random Forest model with default parameters\n",
        "# random_state=707 ensures reproducibility (the same random results each run)\n",
        "rf_baseline = RandomForestClassifier(random_state=707)\n",
        "rf_baseline.fit(X_train, y_train)  # Fit the model on training data (X_train, y_train)\n",
        "\n",
        "# Make predictions on the test set using the trained baseline model\n",
        "y_pred = rf_baseline.predict(X_test)\n",
        "\n",
        "# Calculate evaluation metrics to assess model performance\n",
        "acc = accuracy_score(y_test, y_pred)               # Overall accuracy of the model\n",
        "prec = precision_score(y_test, y_pred, pos_label='yes')  # Precision for the positive class ('yes')\n",
        "rec = recall_score(y_test, y_pred, pos_label='yes')        # Recall for the positive class ('yes')\n",
        "\n",
        "# Print the baseline model's metrics with three decimal places\n",
        "print(f\"Baseline Accuracy: {acc:.3f}\")\n",
        "print(f\"Baseline Precision: {prec:.3f}\")\n",
        "print(f\"Baseline Recall: {rec:.3f}\")\n",
        "\n",
        "# Calculate and print the confusion matrix\n",
        "# The confusion matrix is organized by the order of labels provided (\"no\", \"yes\")\n",
        "cm = confusion_matrix(y_test, y_pred, labels=[\"no\", \"yes\"])\n",
        "print(\"Confusion Matrix:\\n\", cm)\n"
      ]
    },
    {
      "cell_type": "markdown",
      "metadata": {
        "id": "U_cwGfzRBrC8"
      },
      "source": [
        "**Interpretation:**\n",
        "\n",
        "- Accuracy 0.915 (91.5%): The model is correct about 91.5% of the time overall. At first glance this looks good, but remember most clients say \"no\".\n",
        "\n",
        "- Precision 0.671 (67.1%) for \"yes\": When the model predicts a client will subscribe, it's correct about 67.1% of the time. This is quite high, meaning the model doesn’t cry \"yes\" unless it's fairly confident. In the confusion matrix, out of all predicted yes (TP+FP), precision is TP/(TP+FP).\n",
        "\n",
        "- Recall 0.487 (48.7%) for \"yes\": The model only caught around 48.7% of the actual yes clients. This is relatively low – it means it missed many clients who would subscribe (false negatives). The model is a bit conservative, tending to predict \"no\" unless there are strong signals to say yes.\n",
        "\n",
        "- The confusion matrix looks like this, [[7102, 208], [488, 440]] meaning:\n",
        "\n",
        "  - 7102 \"no\" were correctly predicted as \"no\" (True Negatives)\n",
        "\n",
        "  - 208 \"no\" were incorrectly predicted as \"yes\" (False Positives)\n",
        "\n",
        "  - 488 \"yes\" were incorrectly predicted as \"no\" (False Negatives)\n",
        "\n",
        "  - 440 \"yes\" were correctly predicted as \"yes\" (True Positives)\n",
        "\n",
        "\n",
        "This baseline model is already fairly accurate indicating strong signals in the data. However, the recall for \"yes\" could be better. We care about recall because the bank wouldn’t want to miss too many potential customers who would say yes. How can we improve the model? This is where hyperparameter tuning comes in."
      ]
    },
    {
      "cell_type": "markdown",
      "metadata": {
        "id": "qHUdseZPCd0E"
      },
      "source": [
        "## ***4. Hyperparameter Tuning***\n",
        "\n",
        "There's a couple things we need to keep in mind when tuning the hyperparameters for our model here:\n",
        "\n",
        "1. We have a big class imbalance\n",
        "2. The precision and recall scores for the base random forest model are low.\n",
        "\n",
        "The accuracy for the base model is quite high (91.5%), but we might want to sacrifice a little bit of accuracy for better precision and recall scores as seen in our CART activity.\n",
        "\n",
        "As the Hyperparameter tuning article explains, there are multiple ways we can approach this tuning process.\n",
        "\n",
        "We're going to start with Bayesian Optimization using Optuna. We will:\n",
        "\n",
        "- Define an objective function that trains a Random Forest with a given set of hyperparameters and returns the validation accuracy.\n",
        "\n",
        "- Tell Optuna how many trials (iterations) to try. Each trial will sample a new combination of hyperparameters.\n",
        "\n",
        "- After running, get the best hyperparameters found.\n",
        "\n",
        "\n",
        "First, let's install and import Optuna:"
      ]
    },
    {
      "cell_type": "code",
      "execution_count": null,
      "metadata": {
        "colab": {
          "base_uri": "https://localhost:8080/"
        },
        "id": "LwnAoIC3Avbc",
        "outputId": "5e42f433-8519-49f2-8a0c-42cea478e365"
      },
      "outputs": [
        {
          "name": "stdout",
          "output_type": "stream",
          "text": [
            "Requirement already satisfied: optuna in /usr/local/lib/python3.11/dist-packages (4.2.1)\n",
            "Requirement already satisfied: alembic>=1.5.0 in /usr/local/lib/python3.11/dist-packages (from optuna) (1.15.2)\n",
            "Requirement already satisfied: colorlog in /usr/local/lib/python3.11/dist-packages (from optuna) (6.9.0)\n",
            "Requirement already satisfied: numpy in /usr/local/lib/python3.11/dist-packages (from optuna) (2.0.2)\n",
            "Requirement already satisfied: packaging>=20.0 in /usr/local/lib/python3.11/dist-packages (from optuna) (24.2)\n",
            "Requirement already satisfied: sqlalchemy>=1.4.2 in /usr/local/lib/python3.11/dist-packages (from optuna) (2.0.40)\n",
            "Requirement already satisfied: tqdm in /usr/local/lib/python3.11/dist-packages (from optuna) (4.67.1)\n",
            "Requirement already satisfied: PyYAML in /usr/local/lib/python3.11/dist-packages (from optuna) (6.0.2)\n",
            "Requirement already satisfied: Mako in /usr/lib/python3/dist-packages (from alembic>=1.5.0->optuna) (1.1.3)\n",
            "Requirement already satisfied: typing-extensions>=4.12 in /usr/local/lib/python3.11/dist-packages (from alembic>=1.5.0->optuna) (4.13.1)\n",
            "Requirement already satisfied: greenlet>=1 in /usr/local/lib/python3.11/dist-packages (from sqlalchemy>=1.4.2->optuna) (3.1.1)\n"
          ]
        }
      ],
      "source": [
        "# installing and importing necessary tools\n",
        "!pip install optuna\n",
        "import optuna\n",
        "import numpy as np\n",
        "from sklearn.model_selection import cross_val_score\n",
        "from sklearn.metrics import make_scorer, precision_score\n",
        "from sklearn.metrics import f1_score"
      ]
    },
    {
      "cell_type": "markdown",
      "metadata": {
        "id": "VvvYPahDvjoA"
      },
      "source": [
        "Next, define the objective function for Optuna. We will perform cross-validation on the training set to evaluate performance for each combination (to avoid overfitting to one particular train/validation split).\n",
        "\n",
        "For simplicity, we might just do a single split (e.g., use a portion of X_train as a validation set) in this example to speed things up."
      ]
    },
    {
      "cell_type": "code",
      "execution_count": null,
      "metadata": {
        "id": "oVQ6rv2Yvfv_"
      },
      "outputs": [],
      "source": [
        "# Create a custom scorer that calculates the F1 score\n",
        "# The parameter pos_label='yes' specifies that the F1 score is computed using 'yes' as the positive class.\n",
        "f1_scorer = make_scorer(f1_score, pos_label='yes')\n",
        "\n",
        "# Define the objective function for the hyperparameter optimization using Optuna.\n",
        "def objective(trial):\n",
        "    # Hyperparameters to tune are suggested from specified ranges:\n",
        "    # Suggest an integer for number of trees between 50 and 200.\n",
        "    n_estimators = trial.suggest_int('n_estimators', 50, 200)\n",
        "    # Suggest an integer for maximum depth of trees between 3 and 20.\n",
        "    max_depth = trial.suggest_int('max_depth', 3, 20)  # Optionally, you could include step=1 explicitly.\n",
        "    # Suggest a float for the fraction of features to consider at each split, between 0.1 and 1.0.\n",
        "    max_features = trial.suggest_float('max_features', 0.1, 1.0)\n",
        "    # Suggest an integer for the minimum number of samples needed to split an internal node, between 2 and 10.\n",
        "    min_samples_split = trial.suggest_int('min_samples_split', 2, 10)\n",
        "    # Suggest an integer for the minimum number of samples required at a leaf node, between 1 and 20.\n",
        "    min_samples_leaf = trial.suggest_int('min_samples_leaf', 1, 20)\n",
        "    # Suggest a categorical choice for class_weight with three options: None, 'balanced', or 'balanced_subsample'\n",
        "    class_weight = trial.suggest_categorical('class_weight', [None, 'balanced', 'balanced_subsample'])\n",
        "\n",
        "    # Create a RandomForestClassifier using the hyperparameters sampled by the trial\n",
        "    rf = RandomForestClassifier(\n",
        "        n_estimators=n_estimators,\n",
        "        max_depth=max_depth,\n",
        "        max_features=max_features,\n",
        "        min_samples_split=min_samples_split,\n",
        "        min_samples_leaf=min_samples_leaf,\n",
        "        class_weight=class_weight,\n",
        "        random_state=707  # A fixed random_state for reproducibility\n",
        "    )\n",
        "\n",
        "    # Evaluate the model using cross-validation on the training set.\n",
        "    # The scoring parameter is set to our custom f1_scorer, which calculates the F1 score with 'yes' as the positive class.\n",
        "    scores = cross_val_score(rf, X_train, y_train, cv=5, scoring=f1_scorer)\n",
        "\n",
        "    # Return the mean F1 score across the 5 folds. This value is used by Optuna to determine the quality of the trial.\n",
        "    return scores.mean()\n"
      ]
    },
    {
      "cell_type": "code",
      "execution_count": null,
      "metadata": {
        "colab": {
          "background_save": true,
          "base_uri": "https://localhost:8080/"
        },
        "id": "DDQJvqVhvRoI",
        "outputId": "4e547c15-a41d-4295-b1b4-30b9c71ea30e"
      },
      "outputs": [
        {
          "name": "stderr",
          "output_type": "stream",
          "text": [
            "[I 2025-04-08 00:47:49,194] A new study created in memory with name: no-name-36d28417-15d3-4a0c-938e-71e6f7c0fe0a\n",
            "[I 2025-04-08 00:48:52,281] Trial 0 finished with value: 0.6419250194358511 and parameters: {'n_estimators': 106, 'max_depth': 20, 'max_features': 0.820562792219378, 'min_samples_split': 9, 'min_samples_leaf': 7, 'class_weight': 'balanced'}. Best is trial 0 with value: 0.6419250194358511.\n",
            "[I 2025-04-08 00:49:20,921] Trial 1 finished with value: 0.6276329442719352 and parameters: {'n_estimators': 127, 'max_depth': 19, 'max_features': 0.40342897081598983, 'min_samples_split': 7, 'min_samples_leaf': 15, 'class_weight': 'balanced'}. Best is trial 0 with value: 0.6419250194358511.\n",
            "[I 2025-04-08 00:49:30,776] Trial 2 finished with value: 0.611761441013125 and parameters: {'n_estimators': 64, 'max_depth': 11, 'max_features': 0.22443692543829707, 'min_samples_split': 2, 'min_samples_leaf': 8, 'class_weight': 'balanced'}. Best is trial 0 with value: 0.6419250194358511.\n",
            "[I 2025-04-08 00:49:45,311] Trial 3 finished with value: 0.46199931305096464 and parameters: {'n_estimators': 101, 'max_depth': 6, 'max_features': 0.33901779125981957, 'min_samples_split': 10, 'min_samples_leaf': 13, 'class_weight': None}. Best is trial 0 with value: 0.6419250194358511.\n",
            "[I 2025-04-08 00:50:15,443] Trial 4 finished with value: 0.6234225031795991 and parameters: {'n_estimators': 156, 'max_depth': 17, 'max_features': 0.28083357503126893, 'min_samples_split': 10, 'min_samples_leaf': 12, 'class_weight': 'balanced'}. Best is trial 0 with value: 0.6419250194358511.\n",
            "[I 2025-04-08 00:51:12,374] Trial 5 finished with value: 0.5894635849278005 and parameters: {'n_estimators': 136, 'max_depth': 17, 'max_features': 0.6282656610265643, 'min_samples_split': 3, 'min_samples_leaf': 6, 'class_weight': None}. Best is trial 0 with value: 0.6419250194358511.\n",
            "[I 2025-04-08 00:51:40,162] Trial 6 finished with value: 0.6189033619386889 and parameters: {'n_estimators': 154, 'max_depth': 19, 'max_features': 0.19226677456618424, 'min_samples_split': 7, 'min_samples_leaf': 11, 'class_weight': 'balanced_subsample'}. Best is trial 0 with value: 0.6419250194358511.\n",
            "[I 2025-04-08 00:51:44,862] Trial 7 finished with value: 0.2863256040855829 and parameters: {'n_estimators': 70, 'max_depth': 4, 'max_features': 0.13813002319507936, 'min_samples_split': 5, 'min_samples_leaf': 10, 'class_weight': None}. Best is trial 0 with value: 0.6419250194358511.\n",
            "[I 2025-04-08 00:52:33,659] Trial 8 finished with value: 0.6387230282414966 and parameters: {'n_estimators': 147, 'max_depth': 19, 'max_features': 0.6155890897796833, 'min_samples_split': 5, 'min_samples_leaf': 10, 'class_weight': 'balanced'}. Best is trial 0 with value: 0.6419250194358511.\n",
            "[I 2025-04-08 00:52:43,352] Trial 9 finished with value: 0.5708367928815863 and parameters: {'n_estimators': 89, 'max_depth': 6, 'max_features': 0.23597175324301867, 'min_samples_split': 9, 'min_samples_leaf': 8, 'class_weight': 'balanced'}. Best is trial 0 with value: 0.6419250194358511.\n",
            "[I 2025-04-08 00:54:32,926] Trial 10 finished with value: 0.642463945715267 and parameters: {'n_estimators': 190, 'max_depth': 13, 'max_features': 0.931728276751538, 'min_samples_split': 8, 'min_samples_leaf': 1, 'class_weight': 'balanced_subsample'}. Best is trial 10 with value: 0.642463945715267.\n",
            "[I 2025-04-08 00:56:30,278] Trial 11 finished with value: 0.6445776985571046 and parameters: {'n_estimators': 200, 'max_depth': 13, 'max_features': 0.953103454147467, 'min_samples_split': 8, 'min_samples_leaf': 1, 'class_weight': 'balanced_subsample'}. Best is trial 11 with value: 0.6445776985571046.\n",
            "[I 2025-04-08 00:58:25,094] Trial 12 finished with value: 0.6412691383728574 and parameters: {'n_estimators': 200, 'max_depth': 12, 'max_features': 0.9783004340530301, 'min_samples_split': 8, 'min_samples_leaf': 1, 'class_weight': 'balanced_subsample'}. Best is trial 11 with value: 0.6445776985571046.\n",
            "[I 2025-04-08 01:00:23,655] Trial 13 finished with value: 0.6445748332035686 and parameters: {'n_estimators': 198, 'max_depth': 13, 'max_features': 0.9630802650639342, 'min_samples_split': 6, 'min_samples_leaf': 1, 'class_weight': 'balanced_subsample'}. Best is trial 11 with value: 0.6445776985571046.\n",
            "[I 2025-04-08 01:01:31,390] Trial 14 finished with value: 0.6202625381358112 and parameters: {'n_estimators': 178, 'max_depth': 10, 'max_features': 0.7622534440052199, 'min_samples_split': 5, 'min_samples_leaf': 20, 'class_weight': 'balanced_subsample'}. Best is trial 11 with value: 0.6445776985571046.\n",
            "[I 2025-04-08 01:03:00,506] Trial 15 finished with value: 0.6452397545114735 and parameters: {'n_estimators': 172, 'max_depth': 14, 'max_features': 0.8354790111607932, 'min_samples_split': 6, 'min_samples_leaf': 4, 'class_weight': 'balanced_subsample'}. Best is trial 15 with value: 0.6452397545114735.\n",
            "[I 2025-04-08 01:04:29,928] Trial 16 finished with value: 0.6444926044778013 and parameters: {'n_estimators': 174, 'max_depth': 15, 'max_features': 0.7978483646606876, 'min_samples_split': 4, 'min_samples_leaf': 4, 'class_weight': 'balanced_subsample'}. Best is trial 15 with value: 0.6452397545114735.\n",
            "[I 2025-04-08 01:05:16,596] Trial 17 finished with value: 0.6188664916259283 and parameters: {'n_estimators': 170, 'max_depth': 9, 'max_features': 0.5030697153122836, 'min_samples_split': 7, 'min_samples_leaf': 4, 'class_weight': 'balanced_subsample'}. Best is trial 15 with value: 0.6452397545114735.\n",
            "[I 2025-04-08 01:06:53,393] Trial 18 finished with value: 0.6448723674091097 and parameters: {'n_estimators': 182, 'max_depth': 15, 'max_features': 0.865748967806358, 'min_samples_split': 6, 'min_samples_leaf': 4, 'class_weight': 'balanced_subsample'}. Best is trial 15 with value: 0.6452397545114735.\n",
            "[I 2025-04-08 01:08:05,562] Trial 19 finished with value: 0.6480483395001395 and parameters: {'n_estimators': 165, 'max_depth': 15, 'max_features': 0.7112950436045208, 'min_samples_split': 6, 'min_samples_leaf': 4, 'class_weight': 'balanced_subsample'}. Best is trial 19 with value: 0.6480483395001395.\n",
            "[I 2025-04-08 01:09:17,692] Trial 20 finished with value: 0.6469112729546421 and parameters: {'n_estimators': 166, 'max_depth': 16, 'max_features': 0.7147203309548649, 'min_samples_split': 4, 'min_samples_leaf': 5, 'class_weight': 'balanced_subsample'}. Best is trial 19 with value: 0.6480483395001395.\n",
            "[I 2025-04-08 01:10:27,191] Trial 21 finished with value: 0.6454823682817942 and parameters: {'n_estimators': 158, 'max_depth': 16, 'max_features': 0.6971867909128727, 'min_samples_split': 4, 'min_samples_leaf': 4, 'class_weight': 'balanced_subsample'}. Best is trial 19 with value: 0.6480483395001395.\n",
            "[I 2025-04-08 01:11:35,557] Trial 22 finished with value: 0.6448640913162059 and parameters: {'n_estimators': 160, 'max_depth': 17, 'max_features': 0.6992564357942129, 'min_samples_split': 3, 'min_samples_leaf': 6, 'class_weight': 'balanced_subsample'}. Best is trial 19 with value: 0.6480483395001395.\n",
            "[I 2025-04-08 01:12:21,494] Trial 23 finished with value: 0.647613759000756 and parameters: {'n_estimators': 137, 'max_depth': 16, 'max_features': 0.5230631362576911, 'min_samples_split': 4, 'min_samples_leaf': 5, 'class_weight': 'balanced_subsample'}. Best is trial 19 with value: 0.6480483395001395.\n",
            "[I 2025-04-08 01:13:06,448] Trial 24 finished with value: 0.6476624961891281 and parameters: {'n_estimators': 140, 'max_depth': 15, 'max_features': 0.48865452945575444, 'min_samples_split': 4, 'min_samples_leaf': 6, 'class_weight': 'balanced_subsample'}. Best is trial 19 with value: 0.6480483395001395.\n",
            "[I 2025-04-08 01:13:49,520] Trial 25 finished with value: 0.584172366827441 and parameters: {'n_estimators': 138, 'max_depth': 15, 'max_features': 0.4879514804106854, 'min_samples_split': 2, 'min_samples_leaf': 8, 'class_weight': None}. Best is trial 19 with value: 0.6480483395001395.\n",
            "[I 2025-04-08 01:14:18,596] Trial 26 finished with value: 0.6169935293418823 and parameters: {'n_estimators': 115, 'max_depth': 9, 'max_features': 0.4276970331062933, 'min_samples_split': 3, 'min_samples_leaf': 3, 'class_weight': 'balanced_subsample'}. Best is trial 19 with value: 0.6480483395001395.\n",
            "[I 2025-04-08 01:15:08,297] Trial 27 finished with value: 0.6451511130716648 and parameters: {'n_estimators': 141, 'max_depth': 18, 'max_features': 0.5557237968232657, 'min_samples_split': 4, 'min_samples_leaf': 6, 'class_weight': 'balanced_subsample'}. Best is trial 19 with value: 0.6480483395001395.\n",
            "[I 2025-04-08 01:15:50,676] Trial 28 finished with value: 0.6273257962784544 and parameters: {'n_estimators': 125, 'max_depth': 14, 'max_features': 0.6109014737602745, 'min_samples_split': 5, 'min_samples_leaf': 17, 'class_weight': 'balanced_subsample'}. Best is trial 19 with value: 0.6480483395001395.\n",
            "[I 2025-04-08 01:16:22,509] Trial 29 finished with value: 0.5863660911388168 and parameters: {'n_estimators': 104, 'max_depth': 20, 'max_features': 0.4394937285127285, 'min_samples_split': 3, 'min_samples_leaf': 7, 'class_weight': None}. Best is trial 19 with value: 0.6480483395001395.\n",
            "[I 2025-04-08 01:17:01,428] Trial 30 finished with value: 0.6312510283410464 and parameters: {'n_estimators': 125, 'max_depth': 11, 'max_features': 0.5214239507498567, 'min_samples_split': 6, 'min_samples_leaf': 9, 'class_weight': 'balanced_subsample'}. Best is trial 19 with value: 0.6480483395001395.\n",
            "[I 2025-04-08 01:18:14,455] Trial 31 finished with value: 0.6438976108733029 and parameters: {'n_estimators': 164, 'max_depth': 16, 'max_features': 0.6966760037694437, 'min_samples_split': 4, 'min_samples_leaf': 3, 'class_weight': 'balanced_subsample'}. Best is trial 19 with value: 0.6480483395001395.\n",
            "[I 2025-04-08 01:19:07,552] Trial 32 finished with value: 0.6469648712360471 and parameters: {'n_estimators': 147, 'max_depth': 16, 'max_features': 0.578327553509333, 'min_samples_split': 4, 'min_samples_leaf': 6, 'class_weight': 'balanced_subsample'}. Best is trial 19 with value: 0.6480483395001395.\n",
            "[I 2025-04-08 01:20:00,046] Trial 33 finished with value: 0.6441718846523805 and parameters: {'n_estimators': 143, 'max_depth': 18, 'max_features': 0.5697237011322775, 'min_samples_split': 2, 'min_samples_leaf': 7, 'class_weight': 'balanced_subsample'}. Best is trial 19 with value: 0.6480483395001395.\n",
            "[I 2025-04-08 01:20:29,672] Trial 34 finished with value: 0.6448135491208904 and parameters: {'n_estimators': 115, 'max_depth': 14, 'max_features': 0.34254644461676026, 'min_samples_split': 5, 'min_samples_leaf': 2, 'class_weight': 'balanced_subsample'}. Best is trial 19 with value: 0.6480483395001395.\n",
            "[I 2025-04-08 01:21:07,911] Trial 35 finished with value: 0.6465171038197591 and parameters: {'n_estimators': 132, 'max_depth': 18, 'max_features': 0.4724363057698241, 'min_samples_split': 3, 'min_samples_leaf': 5, 'class_weight': 'balanced'}. Best is trial 19 with value: 0.6480483395001395.\n",
            "[I 2025-04-08 01:21:45,818] Trial 36 finished with value: 0.6295463956175614 and parameters: {'n_estimators': 151, 'max_depth': 12, 'max_features': 0.38014304324717973, 'min_samples_split': 4, 'min_samples_leaf': 9, 'class_weight': 'balanced_subsample'}. Best is trial 19 with value: 0.6480483395001395.\n"
          ]
        }
      ],
      "source": [
        "# Create an Optuna study to optimize the objective function defined earlier.\n",
        "# 'direction=\"maximize\"' tells Optuna that we're trying to maximize our objective (in this case, the mean F1 score).\n",
        "# 'sampler=optuna.samplers.TPESampler()' specifies that the study should use the Tree-structured Parzen Estimator sampler,\n",
        "# which efficiently explores the hyperparameter space.\n",
        "# 'pruner=optuna.pruners.MedianPruner()' enables early stopping of unpromising trials by comparing their intermediate results to the median performance,\n",
        "# reducing wasted computation.\n",
        "study = optuna.create_study(direction='maximize',\n",
        "                            sampler=optuna.samplers.TPESampler(),\n",
        "                            pruner=optuna.pruners.MedianPruner())\n",
        "\n",
        "# Optimize the objective function over a maximum of 100 trials or a timeout of 2000 seconds (whichever comes first).\n",
        "# This process evaluates different hyperparameter combinations and uses the objective function's mean F1 score to guide the search.\n",
        "study.optimize(objective, n_trials=100, timeout=2000)  # Try up to 100 trials or stop after 2000 seconds (~33 minutes)\n"
      ]
    },
    {
      "cell_type": "markdown",
      "metadata": {
        "id": "FzsjSvnGtwvl"
      },
      "source": [
        "We limited the study to 100 trials for time. You could do a more thorough search by adding more trials. Generally, the more trials, the more more likely it is too find the optimal settings (at the cost of time).\n",
        "\n",
        "Let's extract the best parameters from the study."
      ]
    },
    {
      "cell_type": "code",
      "execution_count": null,
      "metadata": {
        "colab": {
          "background_save": true
        },
        "id": "HaKEJX_cvzkN",
        "outputId": "e913319d-01c1-456d-91cb-7a179ea6b030"
      },
      "outputs": [
        {
          "name": "stdout",
          "output_type": "stream",
          "text": [
            "Best score: 0.6480483395001395\n",
            "Best hyperparameters: {'n_estimators': 165, 'max_depth': 15, 'max_features': 0.7112950436045208, 'min_samples_split': 6, 'min_samples_leaf': 4, 'class_weight': 'balanced_subsample'}\n"
          ]
        }
      ],
      "source": [
        "# Best hyperparameters\n",
        "print(\"Best score:\", study.best_value)\n",
        "print(\"Best hyperparameters:\", study.best_params)"
      ]
    },
    {
      "cell_type": "markdown",
      "metadata": {
        "id": "7MhTIz0d2rh_"
      },
      "source": [
        "We'll use the best hyperparameters from our Optuna study to train another random forest model and compare the results to the base model."
      ]
    },
    {
      "cell_type": "markdown",
      "metadata": {
        "id": "HDwQkIjrzqWR"
      },
      "source": [
        "## ***5. Training and Evaluating Model with Best Hyperparameters***\n",
        "\n",
        "- Training Model with Best Hyperparameters\n",
        "- Evaluating Tuned Model\n",
        "\n",
        "### ***5.1 Training Model with Best Hyperparameters***"
      ]
    },
    {
      "cell_type": "code",
      "execution_count": null,
      "metadata": {
        "colab": {
          "background_save": true
        },
        "id": "e-VSf5KLzx_-"
      },
      "outputs": [],
      "source": [
        "# Retrieve the best hyperparameters identified by the Optuna study.\n",
        "# Use .copy() to ensure that we don't modify the original dictionary.\n",
        "best_params = study.best_params.copy()\n",
        "\n",
        "# Create a new RandomForestClassifier using the best hyperparameters.\n",
        "# The ** operator unpacks the dictionary so that each key-value pair is passed as a named argument.\n",
        "# Setting random_state=707 ensures reproducibility.\n",
        "rf_tuned = RandomForestClassifier(**best_params, random_state=707)\n",
        "\n",
        "# Train (fit) the tuned Random Forest model on the training data.\n",
        "rf_tuned.fit(X_train, y_train)\n",
        "\n",
        "# Generate predictions on the test data using the tuned model.\n",
        "y_pred_tuned = rf_tuned.predict(X_test)\n"
      ]
    },
    {
      "cell_type": "markdown",
      "metadata": {
        "id": "Vv9qqFsv2-Xn"
      },
      "source": [
        "### ***5.1 Evaluating Tuned Model***\n",
        "\n",
        "Now that we've tuned our random forest model, let's see how it compares to the base model."
      ]
    },
    {
      "cell_type": "code",
      "execution_count": null,
      "metadata": {
        "id": "A5bbR8eJ3LY6"
      },
      "outputs": [],
      "source": [
        "# Evaluate tuned model\n",
        "acc_tuned = accuracy_score(y_test, y_pred_tuned)\n",
        "prec_tuned = precision_score(y_test, y_pred_tuned, pos_label='yes')\n",
        "rec_tuned = recall_score(y_test, y_pred_tuned, pos_label='yes')\n",
        "print(f\"Tuned Accuracy: {acc_tuned:.3f}\")\n",
        "print(f\"Tuned Precision: {prec_tuned:.3f}\")\n",
        "print(f\"Tuned Recall: {rec_tuned:.3f}\")"
      ]
    },
    {
      "cell_type": "markdown",
      "metadata": {
        "id": "5xOqS9OcQF__"
      },
      "source": [
        "**Base model evaluation metrics:**\n",
        "- Baseline Accuracy: 0.916\n",
        "- Baseline Precision: 0.679\n",
        "- Baseline Recall: 0.474\n",
        "\n",
        "**Tuned model evaluation metrics:**\n",
        "- Tuned Accuracy: 0.901\n",
        "- Tuned Precision: 0.539\n",
        "- Tuned Recall: 0.814\n",
        "\n",
        "\n",
        "The tuned model's metrics show that it makes more positive (\"yes\") predictions overall, catching 80.6% (recall) of all the true positive cases. This is a significant improvement over the base model (recall score of 47.4%). Meaning that if a customer were to subscribe, the tuned model had a 80.6% chance of identifying the customer.\n",
        "\n",
        "However, this improvement in recall comes with a trade-off in precision. With a precision of 54.8%, when the tuned model predicts \"yes\", it is correct just over half the time. The base model had a precision of 67.9%, it was more cautious and made fewer false positive \"yes\" predictions.\n",
        "\n",
        "As a representative of the bank, this is good news. See, while the tuned model is less precise, it's much better at not missing out on customers who will subscribe. When it comes to term deposits, which tend to be long term, missing a potential customer means losing revenue over that long term:\n",
        "\n",
        "- **False Negatives:** If a customer who would have subscribed (false negative), especially when customers have a high lifetime value, missing true positives are costly. You lose the relationship and the revenue that could have flourished.\n",
        "\n",
        "- **False Positives:** While contacting a customer who doesn't end up subscribing (false positive) does incur a cost, this cost is often lower compared to the loss from not contacting a potential subscriber. It may be more beneficial to reach out to customers who might not convert, rather than missing out on those who would.\n",
        "\n",
        "It's essentially casting a wider net.\n",
        "\n",
        "\n",
        "\n"
      ]
    },
    {
      "cell_type": "markdown",
      "metadata": {
        "id": "2kxMxeyZdpLc"
      },
      "source": [
        "## ***6. Visualizations***\n",
        "\n",
        "- ROC Curve\n",
        "- Confusion Matrix\n",
        "- Feature importances\n",
        "\n",
        "After evaluating the model's performance metrics, it's valuable to create visualizations such as ROC curves and feature importances. While ROC curves is another way to evaluate our model, the feature importances will give you more insight into how the model makes its predictions.\n",
        "\n",
        "**Building a Pipeline:**\n",
        "\n",
        "But first, we're going to build a pipeline with the random forest classifier using the best hyerparameters, train it on the training data, then use the trained model to predict both class labels and probabilities for the positive class on the test data.\n",
        "\n",
        "A pipeline is a tool from scikit-learn that allows you to chain together preprocessing steps and modeling steps. It ensures that the same transformations applied to the training data are also applied to the test data.\n",
        "\n",
        "This is necessary because it provides the inputs that are going to be used for the following visualizations."
      ]
    },
    {
      "cell_type": "code",
      "execution_count": null,
      "metadata": {
        "id": "L7HWagJb_XhX"
      },
      "outputs": [],
      "source": [
        "import matplotlib.pyplot as plt\n",
        "import pandas as pd\n",
        "from sklearn.metrics import (\n",
        "    roc_curve,         # Function to compute ROC curve\n",
        "    roc_auc_score,     # Function to compute the Area Under the ROC Curve (AUC)\n",
        ")\n",
        "from sklearn.pipeline import Pipeline  # For creating a sequential processing pipeline\n",
        "from sklearn.ensemble import RandomForestClassifier  # The machine learning model (ensemble of decision trees)\n",
        "\n",
        "# Create a pipeline that first scales the data and then applies the tuned RandomForestClassifier\n",
        "pipeline = Pipeline([\n",
        "    ('rf', RandomForestClassifier(**best_params, random_state=707))  # Use the tuned hyperparameters stored in best_params\n",
        "])\n",
        "\n",
        "# Fit the pipeline on the training data (X_train: features, y_train: target labels)\n",
        "pipeline.fit(X_train, y_train)\n",
        "\n",
        "# --- Get Predictions and Probabilities ---\n",
        "# Use the trained pipeline to predict class labels for the test set\n",
        "y_pred = pipeline.predict(X_test)\n",
        "\n",
        "# Use the trained pipeline to predict probabilities for the test set\n",
        "# Extract the probabilities for the positive class ('yes') from the second column of the output\n",
        "y_probas = pipeline.predict_proba(X_test)[:, 1]\n"
      ]
    },
    {
      "cell_type": "markdown",
      "metadata": {
        "id": "OEDOk1ytpq9q"
      },
      "source": [
        "### ***6.1 ROC Curve***\n",
        "\n",
        "Let's plot the ROC curve for our tuned model.\n",
        "\n",
        "The ROC curve (Receiver Operating Characteristic) shows the trade-off between true positive rate (recall) and false positive rate as we vary the threshold for deciding \"yes\".\n",
        "\n",
        "The area under this curve (AUC) is a measure of overall classifier performance (1.0 is perfect, 0.5 is no better than random guessing). A higher AUC indicates a better model that is more effective at distinguishing between classes."
      ]
    },
    {
      "cell_type": "code",
      "execution_count": null,
      "metadata": {
        "colab": {
          "background_save": true
        },
        "id": "CXPgHpnFOLw9",
        "outputId": "420bff5d-9779-4392-e8d1-3e706000b31f"
      },
      "outputs": [
        {
          "data": {
            "image/png": "[encoded data removed]",
            "text/plain": [
              "<Figure size 800x600 with 1 Axes>"
            ]
          },
          "metadata": {},
          "output_type": "display_data"
        }
      ],
      "source": [
        "import matplotlib.pyplot as plt\n",
        "import pandas as pd\n",
        "from sklearn.metrics import roc_curve, roc_auc_score\n",
        "\n",
        "# Define a base pipeline (with optional scaling)\n",
        "base_pipeline = Pipeline([\n",
        "    ('rf', RandomForestClassifier(random_state=707))  # base model with default parameters\n",
        "])\n",
        "\n",
        "# Train the base pipeline on your training data\n",
        "base_pipeline.fit(X_train, y_train)\n",
        "\n",
        "\n",
        "# --- Base Model ROC ---\n",
        "# Get predictions and probabilities for the base model\n",
        "y_pred_base = base_pipeline.predict(X_test)\n",
        "y_probas_base = base_pipeline.predict_proba(X_test)[:, 1]  # probabilities for positive class ('yes')\n",
        "\n",
        "# Compute ROC curve values for the base model\n",
        "fpr_base, tpr_base, thresholds_base = roc_curve(y_test, y_probas_base, pos_label='yes')\n",
        "roc_auc_base = roc_auc_score(y_test, y_probas_base)\n",
        "\n",
        "# --- Tuned Model ROC ---\n",
        "# Get predictions and probabilities for the tuned model\n",
        "y_pred_tuned = pipeline.predict(X_test)  # 'pipeline' is your tuned model pipeline\n",
        "y_probas_tuned = pipeline.predict_proba(X_test)[:, 1]  # probabilities for positive class ('yes')\n",
        "\n",
        "# Compute ROC curve values for the tuned model\n",
        "fpr_tuned, tpr_tuned, thresholds_tuned = roc_curve(y_test, y_probas_tuned, pos_label='yes')\n",
        "roc_auc_tuned = roc_auc_score(y_test, y_probas_tuned)\n",
        "\n",
        "# --- Plot Both ROC Curves ---\n",
        "plt.figure(figsize=(8, 6))\n",
        "# Plot ROC for base model\n",
        "plt.plot(fpr_base, tpr_base, color='blue', label=f'Base Model ROC (AUC = {roc_auc_base:.2f})')\n",
        "# Plot ROC for tuned model\n",
        "plt.plot(fpr_tuned, tpr_tuned, color='green', label=f'Tuned Model ROC (AUC = {roc_auc_tuned:.2f})')\n",
        "# Plot diagonal line representing random chance\n",
        "plt.plot([0, 1], [0, 1], color='red', linestyle='--', label='Random Guess')\n",
        "plt.xlim([0.0, 1.0])\n",
        "plt.ylim([0.0, 1.05])\n",
        "plt.xlabel('False Positive Rate')\n",
        "plt.ylabel('True Positive Rate')\n",
        "plt.title('Receiver Operating Characteristic (ROC) Curve')\n",
        "plt.legend(loc=\"lower right\")\n",
        "plt.show()\n"
      ]
    },
    {
      "cell_type": "markdown",
      "metadata": {
        "id": "AfGkHyzEwJt6"
      },
      "source": [
        "This ROC plot shows two curves—one for the base model (blue) and one for the tuned model (green)—both of which perform significantly better than random guessing (the diagonal red line). Here’s what stands out:\n",
        "\n",
        "1. High AUC for Both Models:\n",
        "\n",
        "Base Model AUC = 0.94\n",
        "\n",
        "Tuned Model AUC = 0.95\n",
        "Both models demonstrate strong discriminative ability. An AUC in the mid- to high-0.90s indicates that each model is very good at distinguishing between positive (yes) and negative (no) cases.\n",
        "\n",
        "2. Slight Edge for the Tuned Model:\n",
        "\n",
        "The tuned model’s ROC curve (green) is marginally above the base model’s curve (blue), resulting in a slightly higher AUC (0.95 vs. 0.94).\n",
        "\n",
        "This difference suggests that hyperparameter tuning yielded a small but measurable improvement in the model’s ability to rank positive instances above negative ones.\n",
        "\n",
        "3. Visual Similarity:\n",
        "\n",
        "The two curves are close, indicating that the performance difference is not massive. Nonetheless, a small improvement can be meaningful in some marketing contexts, especially if the cost of false positives or missed opportunities is high.\n",
        "\n",
        "4. Above Random Guess:\n",
        "\n",
        "Both models are well above the red dashed line (representing random guessing, AUC = 0.50), confirming that they’re providing substantial predictive value.\n",
        "\n",
        "Overall, while the base model already performs quite well, the tuned model shows a modest performance gain. Depending on the application’s cost-benefit trade-offs (e.g., the cost of a false positive vs. the benefit of a true positive), even this small improvement might be worthwhile."
      ]
    },
    {
      "cell_type": "markdown",
      "metadata": {
        "id": "Ax-f6KFPObAz"
      },
      "source": [
        "### ***6.2 Visualizing the Confusion Matrix***\n",
        "\n",
        "We've taken a look at confusion matrices in base model evaluation section. Let's try using a heatmap-style table to better understand the usefulness of confusion matrices. Confusion matrices are meant to summarize how well your classfication model is performing by showing the counts of correct and incorrect predictions."
      ]
    },
    {
      "cell_type": "code",
      "execution_count": null,
      "metadata": {
        "id": "lFar_NDBNESa"
      },
      "outputs": [],
      "source": [
        "import matplotlib.pyplot as plt\n",
        "from sklearn.metrics import confusion_matrix, ConfusionMatrixDisplay\n",
        "\n",
        "# Compute the confusion matrix for the tuned model predictions.\n",
        "# - y_test: the true labels of the test set.\n",
        "# - y_pred_tuned: the predictions produced by the tuned RandomForest model.\n",
        "# - labels=['no', 'yes']: ensures the matrix rows/columns follow the specified order for the classes.\n",
        "cm_tuned = confusion_matrix(y_test, y_pred_tuned, labels=['no', 'yes'])\n",
        "\n",
        "# Print the confusion matrix to the console.\n",
        "print(\"Confusion Matrix:\")\n",
        "print(cm_tuned)\n",
        "\n",
        "# Create a ConfusionMatrixDisplay object using the computed confusion matrix.\n",
        "# This object prepares the visualization of the confusion matrix.\n",
        "disp = ConfusionMatrixDisplay(confusion_matrix=cm_tuned, display_labels=['no', 'yes'])\n",
        "\n",
        "# Plot the confusion matrix using a blue color map for clarity.\n",
        "disp.plot(cmap=plt.cm.Blues)\n",
        "\n",
        "# Add a title and axis labels to the plot for better understanding.\n",
        "plt.title(\"Confusion Matrix - Tuned Model\")\n",
        "plt.xlabel(\"Predicted Label\")\n",
        "plt.ylabel(\"True Label\")\n",
        "\n",
        "# Display the plot.\n",
        "plt.show()\n"
      ]
    },
    {
      "cell_type": "markdown",
      "metadata": {
        "id": "pp7P6JCumDrw"
      },
      "source": [
        "Here’s what stands out in this confusion matrix for your tuned model:\n",
        "\n",
        "1. Majority Class (“no”):\n",
        "\n",
        "- True Negatives (TN): 6,717 instances were correctly classified as “no.”\n",
        "\n",
        "- False Positives (FP): 593 instances labeled “yes” by the model, but the true label was “no.”\n",
        "\n",
        "- This indicates the model is generally good at identifying “no” cases but does allow some false positives.\n",
        "\n",
        "2. Minority Class (“yes”):\n",
        "\n",
        "- False Negatives (FN): 187 instances labeled “no,” but they were actually “yes.”\n",
        "\n",
        "- True Positives (TP): 741 instances correctly classified as “yes.”\n",
        "\n",
        "- This suggests the model does a solid job capturing actual “yes” cases, though some positive instances are missed (187)."
      ]
    },
    {
      "cell_type": "markdown",
      "metadata": {
        "id": "r4jqwI-EwBJW"
      },
      "source": [
        "### ***6.3 Feature Importances***\n",
        "\n",
        "A feature importance plot shows which input variables most strongly influence the model’s predictions. This helps you understand the factors driving the marketing outcome and can provide insights into customer behavior."
      ]
    },
    {
      "cell_type": "code",
      "execution_count": null,
      "metadata": {
        "id": "LDLSQfoUODeN"
      },
      "outputs": [],
      "source": [
        "# --- Feature Importances ---\n",
        "\n",
        "# Retrieve the feature importances from the RandomForestClassifier within the pipeline.\n",
        "# The model stores an array of importance scores for each feature, indicating the contribution of each feature to the model.\n",
        "importances = pipeline.named_steps['rf'].feature_importances_\n",
        "\n",
        "# Assuming X_train is a pandas DataFrame, get its column names which correspond to the features.\n",
        "feature_names = X_train.columns  # If X_train is not a DataFrame, this line should be adjusted accordingly.\n",
        "\n",
        "# Create a pandas Series combining feature names with their corresponding importance scores.\n",
        "# Sorting the Series in ascending order makes it easier to visualize which features are most and least important.\n",
        "feat_importances = pd.Series(importances, index=feature_names).sort_values(ascending=True)\n",
        "\n",
        "# Set up the plot with a custom size for better visibility.\n",
        "plt.figure(figsize=(10, 8))\n",
        "\n",
        "# Plot the feature importances as a horizontal bar chart.\n",
        "feat_importances.plot(kind='barh')\n",
        "\n",
        "# Add a title and label the axes to provide clear context.\n",
        "plt.title(\"Feature Importances\")\n",
        "plt.xlabel(\"Importance\")\n",
        "plt.ylabel(\"Feature\")\n",
        "\n",
        "# Display the plot.\n",
        "plt.show()\n"
      ]
    },
    {
      "cell_type": "markdown",
      "metadata": {
        "id": "bHweKcfTnaSl"
      },
      "source": [
        "This feature importance chart shows how much each variable contributes to the random forest’s predictions of whether a customer will subscribe to a term deposit. Here are the key takeaways:\n",
        "\n",
        "1. Dominant Feature: `duration`\n",
        "\n",
        "- The call duration dwarfs every other feature, suggesting that longer calls strongly correlate with a “yes” outcome.\n",
        "\n",
        "- In many versions of the bank marketing dataset, `duration` is known to be highly predictive but also somewhat post-hoc—it depends on whether the call lasted longer because the customer was interested. Some analyses even exclude `duration` to avoid leaking this outcome-related information.\n",
        "\n",
        "2. Other Strong Predictors\n",
        "\n",
        "- `nr.employed`, `euribor3m`, `cons.conf.idx`, `cons.price.idx`: Economic indicators (e.g., employment numbers, consumer confidence, consumer prices) are among the next most influential features. This makes sense—favorable economic conditions can affect customers’ likelihood to invest in a term deposit.\n",
        "\n",
        "- `pdays`, `campaign`, `previous`: These capture past campaign interactions (days since last contact, number of contacts during this campaign, and number of contacts before this campaign). A positive history of engagement often boosts the probability of saying “yes.”\n",
        "\n",
        "3. Months and Other Categoricals\n",
        "\n",
        "- Certain months (e.g., `month_may`, `month_oct`) have higher importance, implying seasonal effects. Some months might historically yield better subscription rates.\n",
        "\n",
        "- Variables like `education`, `job`, and `marital` show up further down the list, but they still add incremental predictive power.\n",
        "\n",
        "4. Interpretation for Marketing\n",
        "\n",
        "- High `duration”` importance: If you keep “duration” in the model, be aware it can overshadow other insights. This feature might indicate that as soon as a call lasts beyond a certain threshold, the likelihood of subscription increases sharply.\n",
        "\n",
        "- Economic Indicators: Monitoring these external factors (e.g., `nr.employed`, `euribor3m`) can help you time campaigns when market conditions are favorable.\n",
        "\n",
        "- Campaign History: Customers who were successfully engaged or contacted more often in previous campaigns may be more receptive now, so segmenting based on these past interactions can boost efficiency.\n",
        "\n",
        "Overall, this chart confirms that call duration is the single biggest driver in predicting term deposit subscriptions, with a variety of economic indicators and campaign-related features also contributing significantly."
      ]
    },
    {
      "cell_type": "markdown",
      "metadata": {
        "id": "_0sdcA7WALLa"
      },
      "source": [
        "## ***6. Insights and Wrap-Up***\n",
        "\n",
        "Congratulations on making it to the end of the activity! Now it's time to share your findings with the stakeholders of Baekho Bank. What will you say?\n",
        "\n",
        "Well...\n",
        "\n",
        "After a comprehensive modeling process using a tuned random forest classifier, our predictive tool demonstrates a robust ability to identify potential term deposit subscribers. The tuned model achieved an accuracy of 90.3%, a recall of 80.6%, and a precision of 54.8%. These metrics indicate that the model is especially effective at capturing a high proportion of actual subscribers—a crucial advantage in marketing, where missing out on high-value customers can be costly.\n",
        "\n",
        "**Key Insights from Feature Importances**\n",
        "\n",
        "One of the standout aspects of our analysis is the feature importance evaluation. This visualization revealed which variables most strongly influence the model’s predictions and, consequently, customer behavior:\n",
        "\n",
        "- Call Duration:\n",
        "\n",
        "  - Dominant Predictor:\n",
        "  Call duration emerged as the single most important feature. Longer calls strongly correlate with a “yes” outcome, likely reflecting higher customer engagement.\n",
        "\n",
        "  - Marketing Impact:\n",
        "  This insight suggests that training call agents to engage customers more effectively could be key. For instance, if certain call scripts or techniques result in longer conversations, these could be standardized or emphasized across campaigns.\n",
        "\n",
        "- Economic Indicators (e.g., `euribor3m`, `cons.price.idx`, `cons.conf.idx`, `nr.employed`):\n",
        "\n",
        "  - Influential External Factors: These features reflect the broader economic environment. A favorable economic climate often boosts consumer confidence, making customers more receptive to banking products.\n",
        "\n",
        "  - Marketing Impact: Understanding these variables can help time marketing campaigns. For example, launching campaigns during periods of high consumer confidence or low euribor3m may yield higher conversion rates. Tailoring messaging to highlight economic stability or investment security can further enhance effectiveness.\n",
        "\n",
        "- Campaign History (e.g., `previous`, `campaign`, `pdays`):\n",
        "\n",
        "  - Engagement and Persistence:Variables related to previous contacts and campaign interactions indicate that customers with a history of engagement are more likely to subscribe.\n",
        "\n",
        "  - Marketing Impact: These insights support the development of targeted follow-up strategies. Customers who have been contacted before, particularly those with positive past responses, should be prioritized in future campaigns, potentially with personalized offers or incentives.\n",
        "\n",
        "- Other Demographic and Behavioral Features:\n",
        "\n",
        "  - While not as dominant as the above factors, features such as job, education, and marital status still contribute to the model’s predictions.\n",
        "\n",
        "  - Marketing Impact: These can be used to further segment the customer base. For example, specific job categories or educational backgrounds may respond better to certain types of messaging, allowing for a more tailored marketing approach.\n",
        "\n",
        "Strategic Recommendations\n",
        "1. Integrate the Predictive Model into Campaign Management:\n",
        "\n",
        "- Deploy the model in your CRM system to score and segment customers in real-time, ensuring that your marketing team focuses on leads with the highest likelihood of conversion.\n",
        "\n",
        "2. Optimize Call Strategies:\n",
        "\n",
        "- Use the insight from call duration to train agents in effective communication strategies. Experiment with call scripts or incentives that naturally extend call time and, by extension, customer engagement.\n",
        "\n",
        "3. Time and Tailor Campaigns Using Economic Data:\n",
        "\n",
        "- Monitor key economic indicators and plan campaigns during periods that historically correlate with higher subscription rates. Tailor your messaging to reflect the current economic sentiment, emphasizing stability and opportunity.\n",
        "\n",
        "4. Retarget and Personalize Outreach:\n",
        "\n",
        "- Leverage campaign history by identifying and prioritizing customers who have shown previous engagement. Consider personalized follow-ups or special offers to maximize conversion rates.\n",
        "\n",
        "**Wrap-Up:**\n",
        "\n",
        "In this exercise, we began by exploring the bank marketing dataset, then built and tuned a random forest classifier using Optuna. We evaluated the model using accuracy, precision, recall, ROC curves, and confusion matrices. The tuned model, despite a slight drop in precision compared to the baseline, delivers a significant boost in recall (80.6%), which is critical in ensuring that we capture a high percentage of potential subscribers.\n",
        "\n",
        "The feature importance analysis revealed key drivers like call duration, economic indicators, and campaign history, all of which provide actionable insights for optimizing marketing strategies. By integrating this predictive model into the bank's campaign management process, we can enhance targeting, personalize outreach, and time our campaigns more effectively to maximize conversions and overall campaign success.\n",
        "\n",
        "In summary, our work not only produced a highly effective predictive model but also yielded valuable behavioral and economic insights that empower the bank to scale its marketing efforts strategically.\n",
        "\n",
        "\n"
      ]
    },
    {
      "cell_type": "markdown",
      "metadata": {
        "id": "zm1460FV_09C"
      },
      "source": [
        "## ***7. Further Learning***\n",
        "\n",
        "You’ve trained a solid model and tuned it for accuracy. Here are some additional experiments and challenges you can try to further your understanding:\n",
        "\n",
        "- Optimizing for Recall\n",
        "- Handling Class Imbalance with SMOTE\n",
        "- Feature Engineering\n",
        "- Segment Analysis\n",
        "- Threshold Tuning\n",
        "\n",
        "These challenges will deepen your understanding and help you tailor the model to different needs or constraints. We've provided the code, it will be your challenge to implement them into the model we've built.\n",
        "\n",
        "### ***7.1 Optimizing for Recall***\n",
        "\n",
        "We optimized for the F1 score during our training. The objective here is to maximize recall during cross-validation to ensure that most potential subscribers are captured—even if it means contacting a few extra leads.\n",
        "\n",
        "**When to implement:**\n",
        "\n",
        "Use this code during the model evaluation phase (before or alongside your tuned model evaluation) to compare recall-focused performance.\n",
        "\n"
      ]
    },
    {
      "cell_type": "code",
      "execution_count": null,
      "metadata": {
        "id": "7V7vQsCoBjro"
      },
      "outputs": [],
      "source": [
        "from sklearn.model_selection import cross_val_score\n",
        "from sklearn.ensemble import RandomForestClassifier\n",
        "\n",
        "# Initialize a base RandomForestClassifier (you can use default or tuned parameters here)\n",
        "rf_recall = RandomForestClassifier(random_state=707)\n",
        "\n",
        "# Perform 5-fold cross-validation using recall as the scoring metric\n",
        "recall_scores = cross_val_score(rf_recall, X_train, y_train, cv=5, scoring='recall', n_jobs=-1)\n",
        "\n",
        "# Display the average recall score\n",
        "print(f'Average Recall Score: {recall_scores.mean():.4f}')\n"
      ]
    },
    {
      "cell_type": "markdown",
      "metadata": {
        "id": "jBkzILreBoZv"
      },
      "source": [
        "### ***7.2 Handling Class Imbalance with SMOTE***\n",
        "\n",
        "We'll address the class imbalance of the dataset by oversampling the minority class to ensure the model learns sufficient patterns for the \"yes\" class.\n",
        "\n",
        "SMOTE (Synthetic Minority Over-sampling Technique) is a method to balance class distribution by generating synthetic examples for the minority class, which helps when dealing with imbalanced datasets.\n",
        "\n",
        "**When to implement:**\n",
        "Apply this immediately after splitting your data into training and test sets and before training your model."
      ]
    },
    {
      "cell_type": "code",
      "execution_count": null,
      "metadata": {
        "id": "IYFWOe7FB_2z"
      },
      "outputs": [],
      "source": [
        "from imblearn.over_sampling import SMOTE\n",
        "from collections import Counter\n",
        "\n",
        "# Check the class distribution in the training set\n",
        "print('Class distribution before SMOTE:', Counter(y_train))\n",
        "\n",
        "# Apply SMOTE to balance the classes in the training set\n",
        "smote = SMOTE(random_state=42)\n",
        "X_train_sm, y_train_sm = smote.fit_resample(X_train, y_train)\n",
        "\n",
        "# Check the class distribution after applying SMOTE\n",
        "print('Class distribution after SMOTE:', Counter(y_train_sm))"
      ]
    },
    {
      "cell_type": "markdown",
      "metadata": {
        "id": "zJEWatN4CCaL"
      },
      "source": [
        "### ***7.3 Feature Engineering***\n",
        "\n",
        "This is just a small snippet of what you coould do, but here as an example, we will evaluate the impact of the `duration` feature. Often a dominant predictor that may reflect post-call effects—by training the model without it.\n",
        "\n",
        "**When to implement:**\n",
        "Add the code that drops the 'duration' feature right after you split the dataset into training and testing sets—and before you train your model. This is part of the feature engineering phase. For example:\n",
        "\n",
        "1. Split Your Data:\n",
        "First, split your original dataset into X_train and X_test (and their corresponding y_train and y_test).\n",
        "\n",
        "2. Drop the `duration` Feature:\n",
        "Immediately after splitting, create new training and testing sets (e.g., X_train_fe and X_test_fe) that exclude the 'duration' column.\n",
        "\n",
        "3. Train and Evaluate:\n",
        "Use these modified sets (X_train_fe and X_test_fe) to train your model and evaluate performance, comparing the results to those obtained with the full feature set.\n",
        "\n",
        "For example:\n",
        "\n"
      ]
    },
    {
      "cell_type": "code",
      "execution_count": null,
      "metadata": {
        "id": "OBh0jKDBEQ9E"
      },
      "outputs": [],
      "source": [
        "# Assume X and y have already been defined from the dataset\n",
        "\n",
        "# 1. Split the data into training and testing sets\n",
        "from sklearn.model_selection import train_test_split\n",
        "X_train, X_test, y_train, y_test = train_test_split(X, y, test_size=0.3, random_state=42)\n",
        "\n",
        "# 2. --- Feature Engineering: Exclude the 'duration' feature ---\n",
        "# This is where you remove 'duration' from your training and testing sets\n",
        "X_train_fe = X_train.drop(columns=['duration'])\n",
        "X_test_fe = X_test.drop(columns=['duration'])\n",
        "\n",
        "# 3. Train the model using the feature-engineered data\n",
        "from sklearn.ensemble import RandomForestClassifier\n",
        "rf_fe = RandomForestClassifier(random_state=707)\n",
        "rf_fe.fit(X_train_fe, y_train)\n",
        "\n",
        "# 4. Evaluate the model\n",
        "y_pred_fe = rf_fe.predict(X_test_fe)\n",
        "from sklearn.metrics import classification_report\n",
        "print(classification_report(y_test, y_pred_fe))\n"
      ]
    },
    {
      "cell_type": "markdown",
      "metadata": {
        "id": "C2hC9CwMEY8b"
      },
      "source": [
        "### ***7.4 Segment Analysis***\n",
        "\n",
        "The goal is to analyze model performance for specific customer segments (e.g., clients with a particular job) to tailor marketing strategies for different groups.You can apply this to a variety of different features.\n",
        "\n",
        "**When to Implement:**\n",
        "\n",
        "Use this code during the analysis phase after initial model evaluation to identify segments that may need customized marketing approaches."
      ]
    },
    {
      "cell_type": "code",
      "execution_count": null,
      "metadata": {
        "id": "lfVa2E53EtSE"
      },
      "outputs": [],
      "source": [
        "# Define a segment: for example, customers with the job 'technician'\n",
        "job_category = 'technician'\n",
        "# Note: Ensure that the job information is available in your features. If 'job' is part of X_train, adjust accordingly.\n",
        "X_train_segment = X_train[X_train['job'] == job_category]\n",
        "y_train_segment = y_train[X_train['job'] == job_category]\n",
        "\n",
        "X_test_segment = X_test[X_test['job'] == job_category]\n",
        "y_test_segment = y_test[X_test['job'] == job_category]\n",
        "\n",
        "# Train and evaluate a RandomForestClassifier on this segment\n",
        "rf_segment = RandomForestClassifier(random_state=42)\n",
        "rf_segment.fit(X_train_segment, y_train_segment)\n",
        "y_pred_segment = rf_segment.predict(X_test_segment)\n",
        "\n",
        "print(f'Performance for job category: {job_category}')\n",
        "print(classification_report(y_test_segment, y_pred_segment))\n"
      ]
    },
    {
      "cell_type": "markdown",
      "metadata": {
        "id": "6eJo8HVUEu_p"
      },
      "source": [
        "### ***7.5 Threshold Tuning***\n",
        "\n",
        "The goal here is to explore how adjusting decision threshold affects precision and recall, and determine the optimal threshold for your business goals.\n",
        "\n",
        "**When to implement:**\n",
        "\n",
        "During the model evaluation phase, after generating predicted probabilities, to fine-tune the decision boundary."
      ]
    },
    {
      "cell_type": "code",
      "execution_count": null,
      "metadata": {
        "id": "hEVoCAPkFDCy"
      },
      "outputs": [],
      "source": [
        "import matplotlib.pyplot as plt\n",
        "from sklearn.metrics import precision_recall_curve\n",
        "\n",
        "# Get predicted probabilities from a trained RandomForest model (e.g., the tuned model)\n",
        "y_scores = pipeline.predict_proba(X_test)[:, 1]\n",
        "\n",
        "# Compute precision-recall pairs for different thresholds\n",
        "precisions, recalls, thresholds = precision_recall_curve(y_test, y_scores, pos_label='yes')\n",
        "\n",
        "# Plot the precision and recall values against the thresholds (excluding the last point)\n",
        "plt.figure(figsize=(8, 6))\n",
        "plt.plot(thresholds, precisions[:-1], 'b--', label='Precision')\n",
        "plt.plot(thresholds, recalls[:-1], 'g-', label='Recall')\n",
        "plt.xlabel('Threshold')\n",
        "plt.ylabel('Score')\n",
        "plt.title('Precision-Recall vs. Threshold')\n",
        "plt.legend(loc='best')\n",
        "plt.show()\n"
      ]
    }
  ],
  "metadata": {
    "colab": {
      "provenance": []
    },
    "kernelspec": {
      "display_name": "Python 3",
      "name": "python3"
    },
    "language_info": {
      "name": "python"
    }
  },
  "nbformat": 4,
  "nbformat_minor": 0
}